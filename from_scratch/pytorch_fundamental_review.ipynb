{
 "cells": [
  {
   "cell_type": "code",
   "execution_count": 1,
   "metadata": {},
   "outputs": [],
   "source": [
    "import torch"
   ]
  },
  {
   "cell_type": "code",
   "execution_count": 2,
   "metadata": {},
   "outputs": [
    {
     "data": {
      "text/plain": [
       "torch.Size([2, 2])"
      ]
     },
     "execution_count": 2,
     "metadata": {},
     "output_type": "execute_result"
    }
   ],
   "source": [
    "#create a matric\n",
    "matrix1 = torch.tensor([[1,1],[2,2]])\n",
    "matrix1.shape"
   ]
  },
  {
   "cell_type": "code",
   "execution_count": 3,
   "metadata": {},
   "outputs": [
    {
     "data": {
      "text/plain": [
       "2"
      ]
     },
     "execution_count": 3,
     "metadata": {},
     "output_type": "execute_result"
    }
   ],
   "source": [
    "matrix1.ndim"
   ]
  },
  {
   "cell_type": "code",
   "execution_count": null,
   "metadata": {},
   "outputs": [
    {
     "data": {
      "text/plain": [
       "tensor([[[1, 1],\n",
       "         [2, 2]],\n",
       "\n",
       "        [[3, 3],\n",
       "         [4, 4]]])"
      ]
     },
     "execution_count": 5,
     "metadata": {},
     "output_type": "execute_result"
    }
   ],
   "source": [
    "tensor2 = torch.tensor([[[1,1], [2,2]], [[3,3], [4,4]]])\n",
    "tensor2"
   ]
  },
  {
   "cell_type": "code",
   "execution_count": null,
   "metadata": {},
   "outputs": [
    {
     "data": {
      "text/plain": [
       "torch.Size([2, 2, 2])"
      ]
     },
     "execution_count": 6,
     "metadata": {},
     "output_type": "execute_result"
    }
   ],
   "source": [
    "tensor2.shape"
   ]
  },
  {
   "cell_type": "code",
   "execution_count": null,
   "metadata": {},
   "outputs": [
    {
     "data": {
      "text/plain": [
       "3"
      ]
     },
     "execution_count": 7,
     "metadata": {},
     "output_type": "execute_result"
    }
   ],
   "source": [
    "tensor2.ndim"
   ]
  },
  {
   "cell_type": "code",
   "execution_count": 23,
   "metadata": {},
   "outputs": [
    {
     "data": {
      "text/plain": [
       "tensor([[0., 0., 0.],\n",
       "        [0., 0., 0.],\n",
       "        [0., 0., 0.]])"
      ]
     },
     "execution_count": 23,
     "metadata": {},
     "output_type": "execute_result"
    }
   ],
   "source": [
    "#create a matrix with zeros\n",
    "zero_matrix = torch.zeros(3,3)\n",
    "zero_matrix"
   ]
  },
  {
   "cell_type": "code",
   "execution_count": 24,
   "metadata": {},
   "outputs": [],
   "source": [
    "#creating 3-dim zeros tensor\n",
    "zero_tensor = torch.zeros(3,3,2)"
   ]
  },
  {
   "cell_type": "code",
   "execution_count": 25,
   "metadata": {},
   "outputs": [
    {
     "data": {
      "text/plain": [
       "tensor([[[0., 0.],\n",
       "         [0., 0.],\n",
       "         [0., 0.]],\n",
       "\n",
       "        [[0., 0.],\n",
       "         [0., 0.],\n",
       "         [0., 0.]],\n",
       "\n",
       "        [[0., 0.],\n",
       "         [0., 0.],\n",
       "         [0., 0.]]])"
      ]
     },
     "execution_count": 25,
     "metadata": {},
     "output_type": "execute_result"
    }
   ],
   "source": [
    "zero_tensor"
   ]
  },
  {
   "cell_type": "code",
   "execution_count": 26,
   "metadata": {},
   "outputs": [
    {
     "data": {
      "text/plain": [
       "tensor([[1., 1., 1., 1.],\n",
       "        [1., 1., 1., 1.]])"
      ]
     },
     "execution_count": 26,
     "metadata": {},
     "output_type": "execute_result"
    }
   ],
   "source": [
    "#tesors with ones\n",
    "ones_tensor = torch.ones(2,4)\n",
    "ones_tensor"
   ]
  },
  {
   "cell_type": "code",
   "execution_count": 28,
   "metadata": {},
   "outputs": [
    {
     "data": {
      "text/plain": [
       "tensor([[1., 1., 1., 1.],\n",
       "        [1., 1., 1., 1.]])"
      ]
     },
     "execution_count": 28,
     "metadata": {},
     "output_type": "execute_result"
    }
   ],
   "source": [
    "ones_tensor2 = torch.ones(size=(2,4))\n",
    "ones_tensor"
   ]
  },
  {
   "cell_type": "code",
   "execution_count": 12,
   "metadata": {},
   "outputs": [
    {
     "data": {
      "text/plain": [
       "tensor([0.7072, 0.0694])"
      ]
     },
     "execution_count": 12,
     "metadata": {},
     "output_type": "execute_result"
    }
   ],
   "source": [
    "#creating tensor with random values\n",
    "torch.rand(2)"
   ]
  },
  {
   "cell_type": "code",
   "execution_count": 13,
   "metadata": {},
   "outputs": [
    {
     "data": {
      "text/plain": [
       "tensor([[0.8358, 0.2238],\n",
       "        [0.1874, 0.9463],\n",
       "        [0.2654, 0.2444]])"
      ]
     },
     "execution_count": 13,
     "metadata": {},
     "output_type": "execute_result"
    }
   ],
   "source": [
    "torch.rand(3,2)"
   ]
  },
  {
   "cell_type": "code",
   "execution_count": 16,
   "metadata": {},
   "outputs": [
    {
     "data": {
      "text/plain": [
       "tensor([[[0.0392, 0.4236, 0.2136, 0.3034],\n",
       "         [0.8107, 0.1388, 0.1512, 0.6883],\n",
       "         [0.5323, 0.0436, 0.0999, 0.7273]],\n",
       "\n",
       "        [[0.9553, 0.8282, 0.7301, 0.4865],\n",
       "         [0.4598, 0.0636, 0.5253, 0.4175],\n",
       "         [0.3443, 0.0779, 0.3437, 0.5464]]])"
      ]
     },
     "execution_count": 16,
     "metadata": {},
     "output_type": "execute_result"
    }
   ],
   "source": [
    "torch.rand(2,3,4)"
   ]
  },
  {
   "cell_type": "code",
   "execution_count": 17,
   "metadata": {},
   "outputs": [
    {
     "data": {
      "text/plain": [
       "tensor([[[[0.9558],\n",
       "          [0.9636],\n",
       "          [0.0883],\n",
       "          [0.2843]],\n",
       "\n",
       "         [[0.3541],\n",
       "          [0.3085],\n",
       "          [0.3098],\n",
       "          [0.7690]],\n",
       "\n",
       "         [[0.8648],\n",
       "          [0.4339],\n",
       "          [0.3519],\n",
       "          [0.5047]]],\n",
       "\n",
       "\n",
       "        [[[0.5214],\n",
       "          [0.5040],\n",
       "          [0.8297],\n",
       "          [0.9501]],\n",
       "\n",
       "         [[0.2469],\n",
       "          [0.9165],\n",
       "          [0.1570],\n",
       "          [0.8530]],\n",
       "\n",
       "         [[0.2017],\n",
       "          [0.9145],\n",
       "          [0.2813],\n",
       "          [0.1548]]]])"
      ]
     },
     "execution_count": 17,
     "metadata": {},
     "output_type": "execute_result"
    }
   ],
   "source": [
    "torch.rand(2,3,4,1)"
   ]
  },
  {
   "cell_type": "code",
   "execution_count": 18,
   "metadata": {},
   "outputs": [],
   "source": [
    "#example creating a random tensor for image\n",
    "img_tensor = torch.rand(3,255,255)  #torch.rand('color_channel', 'hight', 'width')"
   ]
  },
  {
   "cell_type": "code",
   "execution_count": 19,
   "metadata": {},
   "outputs": [
    {
     "data": {
      "text/plain": [
       "tensor([[[0.9103, 0.7489, 0.5521,  ..., 0.4081, 0.5688, 0.3716],\n",
       "         [0.6832, 0.6409, 0.0721,  ..., 0.4119, 0.4797, 0.2860],\n",
       "         [0.0166, 0.5867, 0.0762,  ..., 0.3418, 0.3680, 0.7385],\n",
       "         ...,\n",
       "         [0.9453, 0.4747, 0.6930,  ..., 0.4665, 0.9363, 0.9160],\n",
       "         [0.3134, 0.5524, 0.8703,  ..., 0.3834, 0.4642, 0.4517],\n",
       "         [0.7167, 0.8286, 0.0080,  ..., 0.3016, 0.2646, 0.1729]],\n",
       "\n",
       "        [[0.2477, 0.2197, 0.7881,  ..., 0.7816, 0.7911, 0.3500],\n",
       "         [0.2867, 0.9131, 0.4609,  ..., 0.6927, 0.3741, 0.5689],\n",
       "         [0.9245, 0.5241, 0.9193,  ..., 0.3352, 0.2604, 0.9776],\n",
       "         ...,\n",
       "         [0.1883, 0.9948, 0.5039,  ..., 0.2901, 0.1020, 0.7595],\n",
       "         [0.2075, 0.7966, 0.2319,  ..., 0.7759, 0.6425, 0.5771],\n",
       "         [0.5170, 0.4214, 0.2681,  ..., 0.2027, 0.2610, 0.7203]],\n",
       "\n",
       "        [[0.1889, 0.0151, 0.2743,  ..., 0.6778, 0.0636, 0.0600],\n",
       "         [0.6618, 0.8785, 0.0520,  ..., 0.6380, 0.7586, 0.9158],\n",
       "         [0.4356, 0.2593, 0.3330,  ..., 0.1534, 0.3899, 0.0944],\n",
       "         ...,\n",
       "         [0.8129, 0.9400, 0.5712,  ..., 0.5137, 0.0922, 0.9336],\n",
       "         [0.6768, 0.0499, 0.2294,  ..., 0.6313, 0.2615, 0.5415],\n",
       "         [0.9364, 0.8355, 0.9872,  ..., 0.8380, 0.7581, 0.1194]]])"
      ]
     },
     "execution_count": 19,
     "metadata": {},
     "output_type": "execute_result"
    }
   ],
   "source": [
    "img_tensor"
   ]
  },
  {
   "cell_type": "code",
   "execution_count": 20,
   "metadata": {},
   "outputs": [
    {
     "data": {
      "text/plain": [
       "3"
      ]
     },
     "execution_count": 20,
     "metadata": {},
     "output_type": "execute_result"
    }
   ],
   "source": [
    "img_tensor.ndim"
   ]
  },
  {
   "cell_type": "code",
   "execution_count": 21,
   "metadata": {},
   "outputs": [
    {
     "data": {
      "text/plain": [
       "torch.Size([3, 255, 255])"
      ]
     },
     "execution_count": 21,
     "metadata": {},
     "output_type": "execute_result"
    }
   ],
   "source": [
    "img_tensor.shape"
   ]
  },
  {
   "cell_type": "code",
   "execution_count": 30,
   "metadata": {},
   "outputs": [
    {
     "data": {
      "text/plain": [
       "tensor([0, 1, 2, 3, 4, 5, 6, 7, 8, 9])"
      ]
     },
     "execution_count": 30,
     "metadata": {},
     "output_type": "execute_result"
    }
   ],
   "source": [
    "# tensors with range of values\n",
    "range_tensor = torch.arange(10)\n",
    "range_tensor\n"
   ]
  },
  {
   "cell_type": "code",
   "execution_count": 31,
   "metadata": {},
   "outputs": [
    {
     "data": {
      "text/plain": [
       "tensor([ 5,  6,  7,  8,  9, 10, 11, 12, 13, 14])"
      ]
     },
     "execution_count": 31,
     "metadata": {},
     "output_type": "execute_result"
    }
   ],
   "source": [
    "range_tensor2 = torch.arange(start = 5, end = 15)\n",
    "range_tensor2"
   ]
  },
  {
   "cell_type": "code",
   "execution_count": 34,
   "metadata": {},
   "outputs": [
    {
     "data": {
      "text/plain": [
       "tensor([0, 0, 0, 0, 0, 0, 0, 0, 0, 0])"
      ]
     },
     "execution_count": 34,
     "metadata": {},
     "output_type": "execute_result"
    }
   ],
   "source": [
    "#create a tensor of a shape like other tensor\n",
    "zero_tensor_with_like = torch.zeros_like(range_tensor)\n",
    "zero_tensor_with_like"
   ]
  },
  {
   "cell_type": "code",
   "execution_count": 35,
   "metadata": {},
   "outputs": [
    {
     "data": {
      "text/plain": [
       "tensor([1, 1, 1, 1, 1, 1, 1, 1, 1, 1])"
      ]
     },
     "execution_count": 35,
     "metadata": {},
     "output_type": "execute_result"
    }
   ],
   "source": [
    "ones_tensor_with_like = torch.ones_like(range_tensor)\n",
    "ones_tensor_with_like"
   ]
  },
  {
   "cell_type": "code",
   "execution_count": 4,
   "metadata": {},
   "outputs": [
    {
     "data": {
      "text/plain": [
       "tensor([1., 2., 3.])"
      ]
     },
     "execution_count": 4,
     "metadata": {},
     "output_type": "execute_result"
    }
   ],
   "source": [
    "#tensor datatypes\n",
    "\n",
    "tensor_float32 = torch.tensor([1.0,2.0,3.0])\n",
    "tensor_float32"
   ]
  },
  {
   "cell_type": "code",
   "execution_count": 5,
   "metadata": {},
   "outputs": [
    {
     "data": {
      "text/plain": [
       "torch.float32"
      ]
     },
     "execution_count": 5,
     "metadata": {},
     "output_type": "execute_result"
    }
   ],
   "source": [
    "tensor_float32.dtype"
   ]
  },
  {
   "cell_type": "code",
   "execution_count": 10,
   "metadata": {},
   "outputs": [
    {
     "data": {
      "text/plain": [
       "torch.float64"
      ]
     },
     "execution_count": 10,
     "metadata": {},
     "output_type": "execute_result"
    }
   ],
   "source": [
    "tensor_float64 = torch.tensor([3,4,5], dtype = torch.float64)\n",
    "tensor_float64.dtype"
   ]
  },
  {
   "cell_type": "code",
   "execution_count": 11,
   "metadata": {},
   "outputs": [],
   "source": [
    "tensor_int = torch.tensor([1,2,3],\n",
    "                          dtype=int, #determine the dtype\n",
    "                          device = None, #select the device type\n",
    "                          requires_grad=False # if required to calculate the gradient\n",
    "                          )"
   ]
  },
  {
   "cell_type": "code",
   "execution_count": 13,
   "metadata": {},
   "outputs": [
    {
     "data": {
      "text/plain": [
       "torch.float16"
      ]
     },
     "execution_count": 13,
     "metadata": {},
     "output_type": "execute_result"
    }
   ],
   "source": [
    "# change dtype of existing tensors\n",
    "tensor_float16 = tensor_int.type(torch.float16)\n",
    "tensor_float16.dtype"
   ]
  },
  {
   "cell_type": "code",
   "execution_count": 14,
   "metadata": {},
   "outputs": [],
   "source": [
    "#things to be careful while doing tensor computation\n",
    "# 1. Tensor should be in the correct dtype\n",
    "# 2. Tensor not having right shape\n",
    "# 3. Tensor not being in right device"
   ]
  },
  {
   "cell_type": "code",
   "execution_count": 15,
   "metadata": {},
   "outputs": [],
   "source": [
    "# Matrix multipilicaiton rules\n",
    "# 1. Inner dimension of the two given tensor should be equal\n",
    "# eg. (a,b)* (b, c)  where a,b,c are the dimensions of the matrix\n",
    "# here 'b' is column of first tensor and 'b' in the second is the row, both should be same\n",
    "# 2. The output size of the tensor will be of size of outer dimension i.e a*b size\n"
   ]
  },
  {
   "cell_type": "code",
   "execution_count": 17,
   "metadata": {},
   "outputs": [],
   "source": [
    "tensor2by3 = torch.rand(2,3)\n",
    "tensor3by4 = torch.rand(3,4)"
   ]
  },
  {
   "cell_type": "code",
   "execution_count": null,
   "metadata": {},
   "outputs": [
    {
     "data": {
      "text/plain": [
       "tensor([[0.5061, 0.4659, 0.5741, 0.4345],\n",
       "        [0.5000, 0.7451, 0.6796, 0.6470]])"
      ]
     },
     "execution_count": 18,
     "metadata": {},
     "output_type": "execute_result"
    }
   ],
   "source": [
    "#multuplying those tensor gives output of 2*4 matrix\n",
    "tensor2by3 @ tensor3by4"
   ]
  },
  {
   "cell_type": "code",
   "execution_count": 19,
   "metadata": {},
   "outputs": [
    {
     "data": {
      "text/plain": [
       "tensor([[0.5061, 0.4659, 0.5741, 0.4345],\n",
       "        [0.5000, 0.7451, 0.6796, 0.6470]])"
      ]
     },
     "execution_count": 19,
     "metadata": {},
     "output_type": "execute_result"
    }
   ],
   "source": [
    "torch.matmul(tensor2by3 , tensor3by4)"
   ]
  },
  {
   "cell_type": "code",
   "execution_count": 20,
   "metadata": {},
   "outputs": [
    {
     "data": {
      "text/plain": [
       "tensor([[0.2561, 0.2171, 0.3295, 0.1888],\n",
       "        [0.2500, 0.5551, 0.4619, 0.4186]])"
      ]
     },
     "execution_count": 20,
     "metadata": {},
     "output_type": "execute_result"
    }
   ],
   "source": [
    "# elementwise matrix multipllication\n",
    "(tensor2by3 @ tensor3by4) * (tensor2by3 @ tensor3by4)"
   ]
  },
  {
   "cell_type": "code",
   "execution_count": null,
   "metadata": {},
   "outputs": [
    {
     "data": {
      "text/plain": [
       "tensor([[0.9915, 1.2714],\n",
       "        [1.2714, 1.6855]])"
      ]
     },
     "execution_count": 29,
     "metadata": {},
     "output_type": "execute_result"
    }
   ],
   "source": [
    "#matrix transpose\n",
    "(tensor2by3 @ tensor3by4) @ (torch.transpose(tensor2by3 @ tensor3by4, dim0=1, dim1=0))"
   ]
  },
  {
   "cell_type": "code",
   "execution_count": null,
   "metadata": {},
   "outputs": [],
   "source": []
  }
 ],
 "metadata": {
  "kernelspec": {
   "display_name": "pytorch",
   "language": "python",
   "name": "python3"
  },
  "language_info": {
   "codemirror_mode": {
    "name": "ipython",
    "version": 3
   },
   "file_extension": ".py",
   "mimetype": "text/x-python",
   "name": "python",
   "nbconvert_exporter": "python",
   "pygments_lexer": "ipython3",
   "version": "3.10.4"
  }
 },
 "nbformat": 4,
 "nbformat_minor": 2
}
