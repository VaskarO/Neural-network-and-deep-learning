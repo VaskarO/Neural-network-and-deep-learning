{
 "cells": [
  {
   "cell_type": "code",
   "execution_count": 2,
   "metadata": {},
   "outputs": [],
   "source": [
    "import torch"
   ]
  },
  {
   "cell_type": "code",
   "execution_count": 2,
   "metadata": {},
   "outputs": [
    {
     "data": {
      "text/plain": [
       "torch.Size([2, 2])"
      ]
     },
     "execution_count": 2,
     "metadata": {},
     "output_type": "execute_result"
    }
   ],
   "source": [
    "#create a matric\n",
    "matrix1 = torch.tensor([[1,1],[2,2]])\n",
    "matrix1.shape"
   ]
  },
  {
   "cell_type": "code",
   "execution_count": 3,
   "metadata": {},
   "outputs": [
    {
     "data": {
      "text/plain": [
       "2"
      ]
     },
     "execution_count": 3,
     "metadata": {},
     "output_type": "execute_result"
    }
   ],
   "source": [
    "matrix1.ndim"
   ]
  },
  {
   "cell_type": "code",
   "execution_count": null,
   "metadata": {},
   "outputs": [
    {
     "data": {
      "text/plain": [
       "tensor([[[1, 1],\n",
       "         [2, 2]],\n",
       "\n",
       "        [[3, 3],\n",
       "         [4, 4]]])"
      ]
     },
     "execution_count": 5,
     "metadata": {},
     "output_type": "execute_result"
    }
   ],
   "source": [
    "tensor2 = torch.tensor([[[1,1], [2,2]], [[3,3], [4,4]]])\n",
    "tensor2"
   ]
  },
  {
   "cell_type": "code",
   "execution_count": null,
   "metadata": {},
   "outputs": [
    {
     "data": {
      "text/plain": [
       "torch.Size([2, 2, 2])"
      ]
     },
     "execution_count": 6,
     "metadata": {},
     "output_type": "execute_result"
    }
   ],
   "source": [
    "tensor2.shape"
   ]
  },
  {
   "cell_type": "code",
   "execution_count": null,
   "metadata": {},
   "outputs": [
    {
     "data": {
      "text/plain": [
       "3"
      ]
     },
     "execution_count": 7,
     "metadata": {},
     "output_type": "execute_result"
    }
   ],
   "source": [
    "tensor2.ndim"
   ]
  },
  {
   "cell_type": "code",
   "execution_count": 23,
   "metadata": {},
   "outputs": [
    {
     "data": {
      "text/plain": [
       "tensor([[0., 0., 0.],\n",
       "        [0., 0., 0.],\n",
       "        [0., 0., 0.]])"
      ]
     },
     "execution_count": 23,
     "metadata": {},
     "output_type": "execute_result"
    }
   ],
   "source": [
    "#create a matrix with zeros\n",
    "zero_matrix = torch.zeros(3,3)\n",
    "zero_matrix"
   ]
  },
  {
   "cell_type": "code",
   "execution_count": 24,
   "metadata": {},
   "outputs": [],
   "source": [
    "#creating 3-dim zeros tensor\n",
    "zero_tensor = torch.zeros(3,3,2)"
   ]
  },
  {
   "cell_type": "code",
   "execution_count": 25,
   "metadata": {},
   "outputs": [
    {
     "data": {
      "text/plain": [
       "tensor([[[0., 0.],\n",
       "         [0., 0.],\n",
       "         [0., 0.]],\n",
       "\n",
       "        [[0., 0.],\n",
       "         [0., 0.],\n",
       "         [0., 0.]],\n",
       "\n",
       "        [[0., 0.],\n",
       "         [0., 0.],\n",
       "         [0., 0.]]])"
      ]
     },
     "execution_count": 25,
     "metadata": {},
     "output_type": "execute_result"
    }
   ],
   "source": [
    "zero_tensor"
   ]
  },
  {
   "cell_type": "code",
   "execution_count": 26,
   "metadata": {},
   "outputs": [
    {
     "data": {
      "text/plain": [
       "tensor([[1., 1., 1., 1.],\n",
       "        [1., 1., 1., 1.]])"
      ]
     },
     "execution_count": 26,
     "metadata": {},
     "output_type": "execute_result"
    }
   ],
   "source": [
    "#tesors with ones\n",
    "ones_tensor = torch.ones(2,4)\n",
    "ones_tensor"
   ]
  },
  {
   "cell_type": "code",
   "execution_count": 28,
   "metadata": {},
   "outputs": [
    {
     "data": {
      "text/plain": [
       "tensor([[1., 1., 1., 1.],\n",
       "        [1., 1., 1., 1.]])"
      ]
     },
     "execution_count": 28,
     "metadata": {},
     "output_type": "execute_result"
    }
   ],
   "source": [
    "ones_tensor2 = torch.ones(size=(2,4))\n",
    "ones_tensor"
   ]
  },
  {
   "cell_type": "code",
   "execution_count": 12,
   "metadata": {},
   "outputs": [
    {
     "data": {
      "text/plain": [
       "tensor([0.7072, 0.0694])"
      ]
     },
     "execution_count": 12,
     "metadata": {},
     "output_type": "execute_result"
    }
   ],
   "source": [
    "#creating tensor with random values\n",
    "torch.rand(2)"
   ]
  },
  {
   "cell_type": "code",
   "execution_count": 13,
   "metadata": {},
   "outputs": [
    {
     "data": {
      "text/plain": [
       "tensor([[0.8358, 0.2238],\n",
       "        [0.1874, 0.9463],\n",
       "        [0.2654, 0.2444]])"
      ]
     },
     "execution_count": 13,
     "metadata": {},
     "output_type": "execute_result"
    }
   ],
   "source": [
    "torch.rand(3,2)"
   ]
  },
  {
   "cell_type": "code",
   "execution_count": 16,
   "metadata": {},
   "outputs": [
    {
     "data": {
      "text/plain": [
       "tensor([[[0.0392, 0.4236, 0.2136, 0.3034],\n",
       "         [0.8107, 0.1388, 0.1512, 0.6883],\n",
       "         [0.5323, 0.0436, 0.0999, 0.7273]],\n",
       "\n",
       "        [[0.9553, 0.8282, 0.7301, 0.4865],\n",
       "         [0.4598, 0.0636, 0.5253, 0.4175],\n",
       "         [0.3443, 0.0779, 0.3437, 0.5464]]])"
      ]
     },
     "execution_count": 16,
     "metadata": {},
     "output_type": "execute_result"
    }
   ],
   "source": [
    "torch.rand(2,3,4)"
   ]
  },
  {
   "cell_type": "code",
   "execution_count": 17,
   "metadata": {},
   "outputs": [
    {
     "data": {
      "text/plain": [
       "tensor([[[[0.9558],\n",
       "          [0.9636],\n",
       "          [0.0883],\n",
       "          [0.2843]],\n",
       "\n",
       "         [[0.3541],\n",
       "          [0.3085],\n",
       "          [0.3098],\n",
       "          [0.7690]],\n",
       "\n",
       "         [[0.8648],\n",
       "          [0.4339],\n",
       "          [0.3519],\n",
       "          [0.5047]]],\n",
       "\n",
       "\n",
       "        [[[0.5214],\n",
       "          [0.5040],\n",
       "          [0.8297],\n",
       "          [0.9501]],\n",
       "\n",
       "         [[0.2469],\n",
       "          [0.9165],\n",
       "          [0.1570],\n",
       "          [0.8530]],\n",
       "\n",
       "         [[0.2017],\n",
       "          [0.9145],\n",
       "          [0.2813],\n",
       "          [0.1548]]]])"
      ]
     },
     "execution_count": 17,
     "metadata": {},
     "output_type": "execute_result"
    }
   ],
   "source": [
    "torch.rand(2,3,4,1)"
   ]
  },
  {
   "cell_type": "code",
   "execution_count": 18,
   "metadata": {},
   "outputs": [],
   "source": [
    "#example creating a random tensor for image\n",
    "img_tensor = torch.rand(3,255,255)  #torch.rand('color_channel', 'hight', 'width')"
   ]
  },
  {
   "cell_type": "code",
   "execution_count": 19,
   "metadata": {},
   "outputs": [
    {
     "data": {
      "text/plain": [
       "tensor([[[0.9103, 0.7489, 0.5521,  ..., 0.4081, 0.5688, 0.3716],\n",
       "         [0.6832, 0.6409, 0.0721,  ..., 0.4119, 0.4797, 0.2860],\n",
       "         [0.0166, 0.5867, 0.0762,  ..., 0.3418, 0.3680, 0.7385],\n",
       "         ...,\n",
       "         [0.9453, 0.4747, 0.6930,  ..., 0.4665, 0.9363, 0.9160],\n",
       "         [0.3134, 0.5524, 0.8703,  ..., 0.3834, 0.4642, 0.4517],\n",
       "         [0.7167, 0.8286, 0.0080,  ..., 0.3016, 0.2646, 0.1729]],\n",
       "\n",
       "        [[0.2477, 0.2197, 0.7881,  ..., 0.7816, 0.7911, 0.3500],\n",
       "         [0.2867, 0.9131, 0.4609,  ..., 0.6927, 0.3741, 0.5689],\n",
       "         [0.9245, 0.5241, 0.9193,  ..., 0.3352, 0.2604, 0.9776],\n",
       "         ...,\n",
       "         [0.1883, 0.9948, 0.5039,  ..., 0.2901, 0.1020, 0.7595],\n",
       "         [0.2075, 0.7966, 0.2319,  ..., 0.7759, 0.6425, 0.5771],\n",
       "         [0.5170, 0.4214, 0.2681,  ..., 0.2027, 0.2610, 0.7203]],\n",
       "\n",
       "        [[0.1889, 0.0151, 0.2743,  ..., 0.6778, 0.0636, 0.0600],\n",
       "         [0.6618, 0.8785, 0.0520,  ..., 0.6380, 0.7586, 0.9158],\n",
       "         [0.4356, 0.2593, 0.3330,  ..., 0.1534, 0.3899, 0.0944],\n",
       "         ...,\n",
       "         [0.8129, 0.9400, 0.5712,  ..., 0.5137, 0.0922, 0.9336],\n",
       "         [0.6768, 0.0499, 0.2294,  ..., 0.6313, 0.2615, 0.5415],\n",
       "         [0.9364, 0.8355, 0.9872,  ..., 0.8380, 0.7581, 0.1194]]])"
      ]
     },
     "execution_count": 19,
     "metadata": {},
     "output_type": "execute_result"
    }
   ],
   "source": [
    "img_tensor"
   ]
  },
  {
   "cell_type": "code",
   "execution_count": 20,
   "metadata": {},
   "outputs": [
    {
     "data": {
      "text/plain": [
       "3"
      ]
     },
     "execution_count": 20,
     "metadata": {},
     "output_type": "execute_result"
    }
   ],
   "source": [
    "img_tensor.ndim"
   ]
  },
  {
   "cell_type": "code",
   "execution_count": 21,
   "metadata": {},
   "outputs": [
    {
     "data": {
      "text/plain": [
       "torch.Size([3, 255, 255])"
      ]
     },
     "execution_count": 21,
     "metadata": {},
     "output_type": "execute_result"
    }
   ],
   "source": [
    "img_tensor.shape"
   ]
  },
  {
   "cell_type": "code",
   "execution_count": 30,
   "metadata": {},
   "outputs": [
    {
     "data": {
      "text/plain": [
       "tensor([0, 1, 2, 3, 4, 5, 6, 7, 8, 9])"
      ]
     },
     "execution_count": 30,
     "metadata": {},
     "output_type": "execute_result"
    }
   ],
   "source": [
    "# tensors with range of values\n",
    "range_tensor = torch.arange(10)\n",
    "range_tensor\n"
   ]
  },
  {
   "cell_type": "code",
   "execution_count": 31,
   "metadata": {},
   "outputs": [
    {
     "data": {
      "text/plain": [
       "tensor([ 5,  6,  7,  8,  9, 10, 11, 12, 13, 14])"
      ]
     },
     "execution_count": 31,
     "metadata": {},
     "output_type": "execute_result"
    }
   ],
   "source": [
    "range_tensor2 = torch.arange(start = 5, end = 15)\n",
    "range_tensor2"
   ]
  },
  {
   "cell_type": "code",
   "execution_count": 34,
   "metadata": {},
   "outputs": [
    {
     "data": {
      "text/plain": [
       "tensor([0, 0, 0, 0, 0, 0, 0, 0, 0, 0])"
      ]
     },
     "execution_count": 34,
     "metadata": {},
     "output_type": "execute_result"
    }
   ],
   "source": [
    "#create a tensor of a shape like other tensor\n",
    "zero_tensor_with_like = torch.zeros_like(range_tensor)\n",
    "zero_tensor_with_like"
   ]
  },
  {
   "cell_type": "code",
   "execution_count": 35,
   "metadata": {},
   "outputs": [
    {
     "data": {
      "text/plain": [
       "tensor([1, 1, 1, 1, 1, 1, 1, 1, 1, 1])"
      ]
     },
     "execution_count": 35,
     "metadata": {},
     "output_type": "execute_result"
    }
   ],
   "source": [
    "ones_tensor_with_like = torch.ones_like(range_tensor)\n",
    "ones_tensor_with_like"
   ]
  },
  {
   "cell_type": "code",
   "execution_count": 4,
   "metadata": {},
   "outputs": [
    {
     "data": {
      "text/plain": [
       "tensor([1., 2., 3.])"
      ]
     },
     "execution_count": 4,
     "metadata": {},
     "output_type": "execute_result"
    }
   ],
   "source": [
    "#tensor datatypes\n",
    "\n",
    "tensor_float32 = torch.tensor([1.0,2.0,3.0])\n",
    "tensor_float32"
   ]
  },
  {
   "cell_type": "code",
   "execution_count": 5,
   "metadata": {},
   "outputs": [
    {
     "data": {
      "text/plain": [
       "torch.float32"
      ]
     },
     "execution_count": 5,
     "metadata": {},
     "output_type": "execute_result"
    }
   ],
   "source": [
    "tensor_float32.dtype"
   ]
  },
  {
   "cell_type": "code",
   "execution_count": 10,
   "metadata": {},
   "outputs": [
    {
     "data": {
      "text/plain": [
       "torch.float64"
      ]
     },
     "execution_count": 10,
     "metadata": {},
     "output_type": "execute_result"
    }
   ],
   "source": [
    "tensor_float64 = torch.tensor([3,4,5], dtype = torch.float64)\n",
    "tensor_float64.dtype"
   ]
  },
  {
   "cell_type": "code",
   "execution_count": 11,
   "metadata": {},
   "outputs": [],
   "source": [
    "tensor_int = torch.tensor([1,2,3],\n",
    "                          dtype=int, #determine the dtype\n",
    "                          device = None, #select the device type\n",
    "                          requires_grad=False # if required to calculate the gradient\n",
    "                          )"
   ]
  },
  {
   "cell_type": "code",
   "execution_count": 13,
   "metadata": {},
   "outputs": [
    {
     "data": {
      "text/plain": [
       "torch.float16"
      ]
     },
     "execution_count": 13,
     "metadata": {},
     "output_type": "execute_result"
    }
   ],
   "source": [
    "# change dtype of existing tensors\n",
    "tensor_float16 = tensor_int.type(torch.float16)\n",
    "tensor_float16.dtype"
   ]
  },
  {
   "cell_type": "code",
   "execution_count": 14,
   "metadata": {},
   "outputs": [],
   "source": [
    "#things to be careful while doing tensor computation\n",
    "# 1. Tensor should be in the correct dtype\n",
    "# 2. Tensor not having right shape\n",
    "# 3. Tensor not being in right device"
   ]
  },
  {
   "cell_type": "code",
   "execution_count": 15,
   "metadata": {},
   "outputs": [],
   "source": [
    "# Matrix multipilicaiton rules\n",
    "# 1. Inner dimension of the two given tensor should be equal\n",
    "# eg. (a,b)* (b, c)  where a,b,c are the dimensions of the matrix\n",
    "# here 'b' is column of first tensor and 'b' in the second is the row, both should be same\n",
    "# 2. The output size of the tensor will be of size of outer dimension i.e a*b size\n"
   ]
  },
  {
   "cell_type": "code",
   "execution_count": 17,
   "metadata": {},
   "outputs": [],
   "source": [
    "tensor2by3 = torch.rand(2,3)\n",
    "tensor3by4 = torch.rand(3,4)"
   ]
  },
  {
   "cell_type": "code",
   "execution_count": null,
   "metadata": {},
   "outputs": [
    {
     "data": {
      "text/plain": [
       "tensor([[0.5061, 0.4659, 0.5741, 0.4345],\n",
       "        [0.5000, 0.7451, 0.6796, 0.6470]])"
      ]
     },
     "execution_count": 18,
     "metadata": {},
     "output_type": "execute_result"
    }
   ],
   "source": [
    "#multuplying those tensor gives output of 2*4 matrix\n",
    "tensor2by3 @ tensor3by4"
   ]
  },
  {
   "cell_type": "code",
   "execution_count": 19,
   "metadata": {},
   "outputs": [
    {
     "data": {
      "text/plain": [
       "tensor([[0.5061, 0.4659, 0.5741, 0.4345],\n",
       "        [0.5000, 0.7451, 0.6796, 0.6470]])"
      ]
     },
     "execution_count": 19,
     "metadata": {},
     "output_type": "execute_result"
    }
   ],
   "source": [
    "torch.matmul(tensor2by3 , tensor3by4)"
   ]
  },
  {
   "cell_type": "code",
   "execution_count": 20,
   "metadata": {},
   "outputs": [
    {
     "data": {
      "text/plain": [
       "tensor([[0.2561, 0.2171, 0.3295, 0.1888],\n",
       "        [0.2500, 0.5551, 0.4619, 0.4186]])"
      ]
     },
     "execution_count": 20,
     "metadata": {},
     "output_type": "execute_result"
    }
   ],
   "source": [
    "# elementwise matrix multipllication\n",
    "(tensor2by3 @ tensor3by4) * (tensor2by3 @ tensor3by4)"
   ]
  },
  {
   "cell_type": "code",
   "execution_count": null,
   "metadata": {},
   "outputs": [
    {
     "data": {
      "text/plain": [
       "tensor([[0.9915, 1.2714],\n",
       "        [1.2714, 1.6855]])"
      ]
     },
     "execution_count": 29,
     "metadata": {},
     "output_type": "execute_result"
    }
   ],
   "source": [
    "#matrix transpose\n",
    "(tensor2by3 @ tensor3by4) @ (torch.transpose(tensor2by3 @ tensor3by4, dim0=1, dim1=0))"
   ]
  },
  {
   "cell_type": "code",
   "execution_count": 1,
   "metadata": {},
   "outputs": [],
   "source": [
    "#some additional matrix operations"
   ]
  },
  {
   "cell_type": "code",
   "execution_count": 3,
   "metadata": {},
   "outputs": [
    {
     "name": "stdout",
     "output_type": "stream",
     "text": [
      "tensor([[0.1425, 0.6530, 0.6612, 0.3943],\n",
      "        [0.0554, 0.2226, 0.1134, 0.9918],\n",
      "        [0.8007, 0.9121, 0.2652, 0.6598]])\n",
      "tensor([[0.1425, 0.0554, 0.8007],\n",
      "        [0.6530, 0.2226, 0.9121],\n",
      "        [0.6612, 0.1134, 0.2652],\n",
      "        [0.3943, 0.9918, 0.6598]])\n"
     ]
    }
   ],
   "source": [
    "tensor1 = torch.rand((3,4))\n",
    "print(tensor1)\n",
    "transposed_tensor1 = torch.transpose(tensor1, 0, 1)\n",
    "print(transposed_tensor1)"
   ]
  },
  {
   "cell_type": "code",
   "execution_count": 7,
   "metadata": {},
   "outputs": [
    {
     "name": "stdout",
     "output_type": "stream",
     "text": [
      "tensor([ 1.7932+0.j, -0.4915+0.j, -0.1787+0.j])\n",
      "tensor([[ 0.4901+0.j,  0.8413+0.j, -0.4994+0.j],\n",
      "        [ 0.6756+0.j, -0.2211+0.j, -0.5034+0.j],\n",
      "        [ 0.5508+0.j, -0.4932+0.j,  0.7051+0.j]])\n"
     ]
    }
   ],
   "source": [
    "#eignenvalue and eigenvector\n",
    "tensor2 = torch.rand(3,3)\n",
    "L, V = torch.linalg.eig(tensor2)\n",
    "print(L)\n",
    "print(V)"
   ]
  },
  {
   "cell_type": "code",
   "execution_count": 8,
   "metadata": {},
   "outputs": [
    {
     "data": {
      "text/plain": [
       "tensor([[-0.8106, -1.1188,  2.5900],\n",
       "        [ 1.4959, -2.9378,  2.9569],\n",
       "        [ 0.0636,  3.1184, -3.3245]])"
      ]
     },
     "execution_count": 8,
     "metadata": {},
     "output_type": "execute_result"
    }
   ],
   "source": [
    "#compute inverse of matrix\n",
    "torch.linalg.inv(tensor2)"
   ]
  },
  {
   "cell_type": "code",
   "execution_count": null,
   "metadata": {},
   "outputs": [
    {
     "name": "stdout",
     "output_type": "stream",
     "text": [
      "tensor([0.9256, 0.7006, 0.9426, 0.7770, 0.7187, 0.5595, 0.2599, 0.6776, 0.0038,\n",
      "        0.6886, 0.2772, 0.8983, 0.9274, 0.4517, 0.9532])\n"
     ]
    },
    {
     "data": {
      "text/plain": [
       "tensor(8)"
      ]
     },
     "execution_count": 11,
     "metadata": {},
     "output_type": "execute_result"
    }
   ],
   "source": [
    "#argmin and argmax\n",
    "tensor3 = torch.rand(15)\n",
    "print(tensor3)\n",
    "tensor3.argmin()"
   ]
  },
  {
   "cell_type": "code",
   "execution_count": 14,
   "metadata": {},
   "outputs": [
    {
     "data": {
      "text/plain": [
       "14"
      ]
     },
     "execution_count": 14,
     "metadata": {},
     "output_type": "execute_result"
    }
   ],
   "source": [
    "tensor3.argmax().item()"
   ]
  },
  {
   "cell_type": "code",
   "execution_count": 2,
   "metadata": {},
   "outputs": [
    {
     "data": {
      "text/plain": [
       "tensor([[0.7358, 0.4448, 0.2704, 0.7375, 0.5858],\n",
       "        [0.0306, 0.8822, 0.9349, 0.5907, 0.6498],\n",
       "        [0.7890, 0.2724, 0.2969, 0.3952, 0.9462],\n",
       "        [0.8642, 0.9690, 0.0523, 0.4647, 0.7876]])"
      ]
     },
     "execution_count": 2,
     "metadata": {},
     "output_type": "execute_result"
    }
   ],
   "source": [
    "tensor4 = torch.rand(4,5)\n",
    "tensor4"
   ]
  },
  {
   "cell_type": "code",
   "execution_count": null,
   "metadata": {},
   "outputs": [],
   "source": [
    "U, S, V = torch.linalg.svd(tensor4, e)"
   ]
  },
  {
   "cell_type": "code",
   "execution_count": 4,
   "metadata": {},
   "outputs": [
    {
     "data": {
      "text/plain": [
       "tensor([[-0.4685, -0.1860,  0.2233,  0.8343],\n",
       "        [-0.4898,  0.8671,  0.0225, -0.0877],\n",
       "        [-0.4715, -0.3344,  0.6372, -0.5098],\n",
       "        [-0.5642, -0.3188, -0.7374, -0.1906]])"
      ]
     },
     "execution_count": 4,
     "metadata": {},
     "output_type": "execute_result"
    }
   ],
   "source": [
    "U"
   ]
  },
  {
   "cell_type": "code",
   "execution_count": 40,
   "metadata": {},
   "outputs": [
    {
     "data": {
      "text/plain": [
       "tensor([2.6757, 0.9689, 0.5180, 0.3439])"
      ]
     },
     "execution_count": 40,
     "metadata": {},
     "output_type": "execute_result"
    }
   ],
   "source": [
    "S"
   ]
  },
  {
   "cell_type": "code",
   "execution_count": 6,
   "metadata": {},
   "outputs": [
    {
     "data": {
      "text/plain": [
       "tensor([[-0.4557, -0.4917, -0.2818, -0.4049, -0.5543],\n",
       "        [-0.6706,  0.2912,  0.6651,  0.0978, -0.1166],\n",
       "        [ 0.0588, -0.8143,  0.4478,  0.1681,  0.3235],\n",
       "        [ 0.1287, -0.0867, -0.0516,  0.7954, -0.5836],\n",
       "        [-0.5681, -0.0533, -0.5244,  0.4069,  0.4836]])"
      ]
     },
     "execution_count": 6,
     "metadata": {},
     "output_type": "execute_result"
    }
   ],
   "source": [
    "V"
   ]
  },
  {
   "cell_type": "code",
   "execution_count": 17,
   "metadata": {},
   "outputs": [
    {
     "data": {
      "text/plain": [
       "tensor([[0., 0., 0., 0.],\n",
       "        [0., 0., 0., 0.],\n",
       "        [0., 0., 0., 0.],\n",
       "        [0., 0., 0., 0.]])"
      ]
     },
     "execution_count": 17,
     "metadata": {},
     "output_type": "execute_result"
    }
   ],
   "source": [
    "s_zeros = torch.zeros(4,4, dtype=torch.float32)\n",
    "s_zeros"
   ]
  },
  {
   "cell_type": "code",
   "execution_count": 20,
   "metadata": {},
   "outputs": [],
   "source": [
    "s_zeros[0,0] = 2.6757"
   ]
  },
  {
   "cell_type": "code",
   "execution_count": 44,
   "metadata": {},
   "outputs": [
    {
     "data": {
      "text/plain": [
       "tensor([[2.6757, 0.0000, 0.0000, 0.0000, 0.0000],\n",
       "        [0.0000, 0.9689, 0.0000, 0.0000, 0.0000],\n",
       "        [0.0000, 0.0000, 0.5180, 0.0000, 0.0000],\n",
       "        [0.0000, 0.0000, 0.0000, 0.3439, 0.0000],\n",
       "        [0.0000, 0.0000, 0.0000, 0.0000, 0.0000]])"
      ]
     },
     "execution_count": 44,
     "metadata": {},
     "output_type": "execute_result"
    }
   ],
   "source": [
    "s_zeros[1,1] = 0.9689\n",
    "s_zeros[2,2] = 0.5180\n",
    "s_zeros[3,3] = 0.3439\n",
    "zeros_vector = torch.zeros(4)\n",
    "zeros_vector_h = torch.zeros((5,1))\n",
    "s_diagonal = torch.vstack((s_zeros, zeros_vector))\n",
    "s_diagonal = torch.hstack((s_diagonal, zeros_vector_h))\n",
    "s_diagonal\n"
   ]
  },
  {
   "cell_type": "code",
   "execution_count": 45,
   "metadata": {},
   "outputs": [],
   "source": [
    "# A = USV_transopose\n",
    "V_transopse = torch.transpose(V, 0,1)"
   ]
  },
  {
   "cell_type": "code",
   "execution_count": 51,
   "metadata": {},
   "outputs": [
    {
     "name": "stdout",
     "output_type": "stream",
     "text": [
      "torch.Size([4, 4]) torch.Size([5, 5]) torch.Size([5, 5])\n"
     ]
    }
   ],
   "source": [
    "print(U.shape, s_diagonal.shape, V.shape)"
   ]
  },
  {
   "cell_type": "code",
   "execution_count": 82,
   "metadata": {},
   "outputs": [
    {
     "data": {
      "text/plain": [
       "tensor([[0.7140, 0.5121, 0.5842, 0.5568, 0.9584],\n",
       "        [0.7027, 0.4334, 0.7265, 0.4831, 0.6874],\n",
       "        [0.4416, 0.5077, 0.8392, 0.8556, 0.7410],\n",
       "        [0.5997, 0.5848, 0.8876, 0.7458, 0.4460]])"
      ]
     },
     "execution_count": 82,
     "metadata": {},
     "output_type": "execute_result"
    }
   ],
   "source": [
    "#SVD comutation using pytorch\n",
    "tensor5 = torch.rand(4,5)\n",
    "tensor5"
   ]
  },
  {
   "cell_type": "code",
   "execution_count": 83,
   "metadata": {},
   "outputs": [],
   "source": [
    "U,S,V = torch.svd(tensor5)"
   ]
  },
  {
   "cell_type": "code",
   "execution_count": 84,
   "metadata": {},
   "outputs": [
    {
     "data": {
      "text/plain": [
       "tensor([[-0.5083, -0.6894,  0.1554, -0.4921],\n",
       "        [-0.4665, -0.2551, -0.5054,  0.6797],\n",
       "        [-0.5244,  0.3335,  0.7226,  0.3025],\n",
       "        [-0.4990,  0.5903, -0.4453, -0.4520]])"
      ]
     },
     "execution_count": 84,
     "metadata": {},
     "output_type": "execute_result"
    }
   ],
   "source": [
    "U"
   ]
  },
  {
   "cell_type": "code",
   "execution_count": 85,
   "metadata": {},
   "outputs": [
    {
     "data": {
      "text/plain": [
       "tensor([2.9361, 0.4816, 0.2792, 0.0957])"
      ]
     },
     "execution_count": 85,
     "metadata": {},
     "output_type": "execute_result"
    }
   ],
   "source": [
    "S"
   ]
  },
  {
   "cell_type": "code",
   "execution_count": 86,
   "metadata": {},
   "outputs": [
    {
     "data": {
      "text/plain": [
       "tensor([[-0.4160, -0.3535, -0.6882, -0.1176],\n",
       "        [-0.3476,  0.1057, -0.1180, -0.7130],\n",
       "        [-0.5173,  0.4480, -0.2334,  0.6156],\n",
       "        [-0.4527,  0.4537,  0.4606, -0.2505],\n",
       "        [-0.4833, -0.6762,  0.4957,  0.1897]])"
      ]
     },
     "execution_count": 86,
     "metadata": {},
     "output_type": "execute_result"
    }
   ],
   "source": [
    "V"
   ]
  },
  {
   "cell_type": "code",
   "execution_count": 87,
   "metadata": {},
   "outputs": [
    {
     "name": "stdout",
     "output_type": "stream",
     "text": [
      "tensor([[2.9361, 0.0000, 0.0000, 0.0000],\n",
      "        [0.0000, 0.4816, 0.0000, 0.0000],\n",
      "        [0.0000, 0.0000, 0.2792, 0.0000],\n",
      "        [0.0000, 0.0000, 0.0000, 0.0957]])\n"
     ]
    }
   ],
   "source": [
    "zeros_tensor = torch.zeros(V.shape[1], V.shape[1])\n",
    "for i in range(V.shape[0]+1):\n",
    "    for j in range(V.shape[1]):\n",
    "        if i == j:\n",
    "            zeros_tensor[i,j]=S[i]\n",
    "print(zeros_tensor)\n",
    "S_diagonal_tensor = zeros_tensor"
   ]
  },
  {
   "cell_type": "code",
   "execution_count": 74,
   "metadata": {},
   "outputs": [
    {
     "data": {
      "text/plain": [
       "tensor([[-0.3321, -0.5144, -0.6145, -0.3100, -0.3891],\n",
       "        [ 0.5918, -0.2594, -0.0803, -0.6104,  0.4510],\n",
       "        [-0.6417,  0.4175, -0.0338, -0.4776,  0.4297],\n",
       "        [ 0.1613,  0.2767, -0.7650,  0.4154,  0.3736]])"
      ]
     },
     "execution_count": 74,
     "metadata": {},
     "output_type": "execute_result"
    }
   ],
   "source": [
    "torch.transpose(V, 0,1)"
   ]
  },
  {
   "cell_type": "code",
   "execution_count": 88,
   "metadata": {},
   "outputs": [],
   "source": [
    "V_transopse = torch.transpose(V, 0,1)"
   ]
  },
  {
   "cell_type": "code",
   "execution_count": 73,
   "metadata": {},
   "outputs": [
    {
     "name": "stdout",
     "output_type": "stream",
     "text": [
      "torch.Size([4, 4]) torch.Size([5, 4]) torch.Size([5, 4])\n"
     ]
    }
   ],
   "source": [
    "print(U.shape, S_diagonal_tensor.shape, V.shape)"
   ]
  },
  {
   "cell_type": "code",
   "execution_count": 89,
   "metadata": {},
   "outputs": [
    {
     "data": {
      "text/plain": [
       "tensor([[0.7140, 0.5121, 0.5842, 0.5568, 0.9584],\n",
       "        [0.7027, 0.4334, 0.7265, 0.4831, 0.6874],\n",
       "        [0.4416, 0.5077, 0.8392, 0.8556, 0.7410],\n",
       "        [0.5997, 0.5848, 0.8876, 0.7458, 0.4460]])"
      ]
     },
     "execution_count": 89,
     "metadata": {},
     "output_type": "execute_result"
    }
   ],
   "source": [
    "U @ S_diagonal_tensor @ V_transopse"
   ]
  },
  {
   "cell_type": "code",
   "execution_count": 1,
   "metadata": {},
   "outputs": [],
   "source": [
    "# deep learning model workflow"
   ]
  },
  {
   "cell_type": "code",
   "execution_count": 4,
   "metadata": {},
   "outputs": [],
   "source": [
    "#data prepration\n",
    "#creating a sample linear data\n",
    "input_var = torch.arange(0, 1, 0.02).unsqueeze(dim =1)\n",
    "\n",
    "weight = 0.03\n",
    "bias = 0.8\n",
    "\n",
    "outpur_var = weight*input_var + bias"
   ]
  },
  {
   "cell_type": "code",
   "execution_count": 6,
   "metadata": {},
   "outputs": [
    {
     "name": "stdout",
     "output_type": "stream",
     "text": [
      "tensor([[0.0000],\n",
      "        [0.0200],\n",
      "        [0.0400],\n",
      "        [0.0600],\n",
      "        [0.0800],\n",
      "        [0.1000],\n",
      "        [0.1200],\n",
      "        [0.1400],\n",
      "        [0.1600],\n",
      "        [0.1800]])\n",
      "tensor([[0.8000],\n",
      "        [0.8006],\n",
      "        [0.8012],\n",
      "        [0.8018],\n",
      "        [0.8024],\n",
      "        [0.8030],\n",
      "        [0.8036],\n",
      "        [0.8042],\n",
      "        [0.8048],\n",
      "        [0.8054]])\n"
     ]
    }
   ],
   "source": [
    "print(input_var[:10])\n",
    "print(outpur_var[:10])"
   ]
  },
  {
   "cell_type": "code",
   "execution_count": null,
   "metadata": {},
   "outputs": [],
   "source": [
    "# train and test split\n",
    "train_set_split = int(0.7 *len(input_var))"
   ]
  },
  {
   "cell_type": "code",
   "execution_count": 9,
   "metadata": {},
   "outputs": [
    {
     "data": {
      "text/plain": [
       "(35, 15, 35, 15)"
      ]
     },
     "execution_count": 9,
     "metadata": {},
     "output_type": "execute_result"
    }
   ],
   "source": [
    "#train and test data set\n",
    "X_train, y_train = input_var[:train_set_split], outpur_var[:train_set_split]\n",
    "X_test, y_test = input_var[train_set_split:], outpur_var[train_set_split:]\n",
    "len(X_train), len(X_test), len(y_train), len(y_test)"
   ]
  },
  {
   "cell_type": "code",
   "execution_count": null,
   "metadata": {},
   "outputs": [
    {
     "data": {
      "text/plain": [
       "<matplotlib.collections.PathCollection at 0x2f82b13e230>"
      ]
     },
     "execution_count": 12,
     "metadata": {},
     "output_type": "execute_result"
    },
    {
     "data": {
      "image/png": "[encoded data removed]",
      "text/plain": [
       "<Figure size 640x480 with 1 Axes>"
      ]
     },
     "metadata": {},
     "output_type": "display_data"
    }
   ],
   "source": [
    "#visualize data\n",
    "import matplotlib.pyplot as plt\n",
    "plt.scatter(X_train, y_train)\n",
    "plt.scatter(X_test, y_test)\n"
   ]
  },
  {
   "cell_type": "code",
   "execution_count": null,
   "metadata": {},
   "outputs": [],
   "source": []
  }
 ],
 "metadata": {
  "kernelspec": {
   "display_name": "pytorch",
   "language": "python",
   "name": "python3"
  },
  "language_info": {
   "codemirror_mode": {
    "name": "ipython",
    "version": 3
   },
   "file_extension": ".py",
   "mimetype": "text/x-python",
   "name": "python",
   "nbconvert_exporter": "python",
   "pygments_lexer": "ipython3",
   "version": "3.10.4"
  }
 },
 "nbformat": 4,
 "nbformat_minor": 2
}
