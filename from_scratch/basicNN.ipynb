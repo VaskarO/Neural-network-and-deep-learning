{
 "cells": [
  {
   "cell_type": "code",
   "execution_count": 44,
   "metadata": {},
   "outputs": [],
   "source": [
    "import torch\n",
    "import torch.nn as nn\n",
    "import torch.nn.functional as F\n",
    "from torch.optim import SGD"
   ]
  },
  {
   "cell_type": "code",
   "execution_count": 41,
   "metadata": {},
   "outputs": [],
   "source": [
    "class basicNN(nn.Module):\n",
    "    def __init__(self):\n",
    "        super().__init__()\n",
    "        self.w00 = nn.Parameter(torch.tensor(1.7), requires_grad = False)\n",
    "        self.b00 = nn.Parameter(torch.tensor(-0.85), requires_grad = False)\n",
    "        self.w01 = nn.Parameter(torch.tensor(-40.8), requires_grad = False)\n",
    "\n",
    "        self.w10 = nn.Parameter(torch.tensor(12.6), requires_grad = False)\n",
    "        self.b10 = nn.Parameter(torch.tensor(0.0), requires_grad = False)\n",
    "        self.w11 = nn.Parameter(torch.tensor(2.7), requires_grad = False)\n",
    "\n",
    "        self.final_bias = nn.Parameter(torch.tensor(-16.0), requires_grad = False)\n",
    "\n",
    "    def forward(self, input):\n",
    "        input_to_top_relu = input *self.w00+self.b00\n",
    "        top_relu_output = F.relu(input_to_top_relu)\n",
    "        scaled_top_relu_output = top_relu_output*self.w01\n",
    "\n",
    "        input_to_buttom_relu = input * self.w10+self.b10\n",
    "        buttom_relu_output = F.relu(input_to_buttom_relu)\n",
    "        scaled_buttom_relu_output = buttom_relu_output*self.w11\n",
    "\n",
    "        input_to_final_relu = scaled_top_relu_output+scaled_buttom_relu_output+self.final_bias\n",
    "        output = F.relu(input_to_final_relu)\n",
    "        return output\n",
    "\n",
    "    def random_function(self, inp):\n",
    "        print(\"Random function op\", inp)"
   ]
  },
  {
   "cell_type": "code",
   "execution_count": 42,
   "metadata": {},
   "outputs": [
    {
     "data": {
      "text/plain": [
       "tensor([0.0000, 0.0000, 0.0000, 0.0000, 0.0000, 1.0100, 0.0000, 0.0000, 0.0000,\n",
       "        0.0000, 0.0000])"
      ]
     },
     "execution_count": 42,
     "metadata": {},
     "output_type": "execute_result"
    }
   ],
   "source": [
    "input_data = torch.linspace(start =0, end = 1, steps=11)\n",
    "\n",
    "model = basicNN()\n",
    "output_values = model(input_data)\n",
    "output_values"
   ]
  },
  {
   "cell_type": "code",
   "execution_count": 43,
   "metadata": {},
   "outputs": [
    {
     "data": {
      "text/plain": [
       "tensor([0.0000, 1.0100, 0.0000])"
      ]
     },
     "execution_count": 43,
     "metadata": {},
     "output_type": "execute_result"
    }
   ],
   "source": [
    "input_data2 = torch.tensor([0. , 0.5, 1.])\n",
    "model.forward(input_data2)"
   ]
  },
  {
   "cell_type": "code",
   "execution_count": 33,
   "metadata": {},
   "outputs": [
    {
     "name": "stdout",
     "output_type": "stream",
     "text": [
      "Random function op asdad\n"
     ]
    }
   ],
   "source": [
    "model.random_function(\"asdad\")"
   ]
  },
  {
   "cell_type": "code",
   "execution_count": 34,
   "metadata": {},
   "outputs": [
    {
     "data": {
      "text/plain": [
       "tensor([ 0.0000,  0.0000,  0.0000,  0.0000,  0.0000,  1.0100,  3.7320,  6.4540,\n",
       "         9.1760, 11.8980, 14.6200])"
      ]
     },
     "execution_count": 34,
     "metadata": {},
     "output_type": "execute_result"
    }
   ],
   "source": [
    "model.forward(input_data)"
   ]
  },
  {
   "cell_type": "code",
   "execution_count": 35,
   "metadata": {},
   "outputs": [
    {
     "data": {
      "text/plain": [
       "tensor(14.6200)"
      ]
     },
     "execution_count": 35,
     "metadata": {},
     "output_type": "execute_result"
    }
   ],
   "source": [
    "model.forward(torch.tensor(1.0, requires_grad=False))"
   ]
  },
  {
   "cell_type": "code",
   "execution_count": 52,
   "metadata": {},
   "outputs": [],
   "source": [
    "#Creating new network to update final_bias value by itself\n",
    "class basicNN_train(nn.Module):\n",
    "    def __init__(self):\n",
    "        super().__init__()\n",
    "        self.w00 = nn.Parameter(torch.tensor(1.7), requires_grad = False)\n",
    "        self.b00 = nn.Parameter(torch.tensor(-0.85), requires_grad = False)\n",
    "        self.w01 = nn.Parameter(torch.tensor(-40.8), requires_grad = False)\n",
    "\n",
    "        self.w10 = nn.Parameter(torch.tensor(12.6), requires_grad = False)\n",
    "        self.b10 = nn.Parameter(torch.tensor(0.0), requires_grad = False)\n",
    "        self.w11 = nn.Parameter(torch.tensor(2.7), requires_grad = False)\n",
    "\n",
    "        self.final_bias = nn.Parameter(torch.tensor(0.0), requires_grad = True)\n",
    "\n",
    "    def forward(self, input):\n",
    "        input_to_top_relu = input *self.w00+self.b00\n",
    "        top_relu_output = F.relu(input_to_top_relu)\n",
    "        scaled_top_relu_output = top_relu_output*self.w01\n",
    "\n",
    "        input_to_buttom_relu = input * self.w10+self.b10\n",
    "        buttom_relu_output = F.relu(input_to_buttom_relu)\n",
    "        scaled_buttom_relu_output = buttom_relu_output*self.w11\n",
    "\n",
    "        input_to_final_relu = scaled_top_relu_output+scaled_buttom_relu_output+self.final_bias\n",
    "        output = F.relu(input_to_final_relu)\n",
    "        return output\n"
   ]
  },
  {
   "cell_type": "code",
   "execution_count": 64,
   "metadata": {},
   "outputs": [
    {
     "name": "stdout",
     "output_type": "stream",
     "text": [
      "Final bias before optimization :  tensor(0.)\n",
      "Epoch Count: 0, Loss: 256.3200988769531\n",
      "Epoch Count: 1, Loss: 164.0448760986328\n",
      "Epoch Count: 2, Loss: 104.98870849609375\n",
      "Epoch Count: 3, Loss: 67.1927719116211\n",
      "Epoch Count: 4, Loss: 43.00336837768555\n",
      "Epoch Count: 5, Loss: 27.522159576416016\n",
      "Epoch Count: 6, Loss: 17.614181518554688\n",
      "Epoch Count: 7, Loss: 11.273076057434082\n",
      "Epoch Count: 8, Loss: 7.21476936340332\n",
      "Epoch Count: 9, Loss: 4.6174516677856445\n",
      "Epoch Count: 10, Loss: 2.9551703929901123\n",
      "Epoch Count: 11, Loss: 1.8913096189498901\n",
      "Epoch Count: 12, Loss: 1.210437297821045\n",
      "Epoch Count: 13, Loss: 0.7746805548667908\n",
      "Epoch Count: 14, Loss: 0.49579527974128723\n",
      "Epoch Count: 15, Loss: 0.3173092007637024\n",
      "Epoch Count: 16, Loss: 0.20307788252830505\n",
      "Epoch Count: 17, Loss: 0.12997011840343475\n",
      "Epoch Count: 18, Loss: 0.0831809863448143\n",
      "Epoch Count: 19, Loss: 0.053235918283462524\n",
      "Epoch Count: 20, Loss: 0.03407112881541252\n",
      "Epoch Count: 21, Loss: 0.021805522963404655\n",
      "Epoch Count: 22, Loss: 0.013955534435808659\n",
      "Epoch Count: 23, Loss: 0.008931614458560944\n",
      "Epoch Count: 24, Loss: 0.005716175306588411\n",
      "Epoch Count: 25, Loss: 0.003658306086435914\n",
      "Epoch Count: 26, Loss: 0.0023413528688251972\n",
      "Epoch Count: 27, Loss: 0.0014984363224357367\n",
      "Epoch Count: 28, Loss: 0.0009589992114342749\n",
      "Epoch Count: 29, Loss: 0.0006137784221209586\n",
      "Epoch Count: 30, Loss: 0.00039280304918065667\n",
      "Epoch Count: 31, Loss: 0.0002514060470275581\n",
      "Epoch Count: 32, Loss: 0.00016090471763163805\n",
      "Epoch Count: 33, Loss: 0.00010298288543708622\n",
      "Epochs :  34\n",
      "Final bias after optimization -16.001882553100586\n"
     ]
    }
   ],
   "source": [
    "new_model = basicNN_train()\n",
    "#optimizer \n",
    "optimizer = SGD(new_model.parameters(), lr =0.1)\n",
    "epochs = 100\n",
    "\n",
    "print('Final bias before optimization : ', new_model.final_bias.data)\n",
    "\n",
    "inputs = torch.tensor([0. , 0.5, 1.])\n",
    "labels = torch.tensor([0. , 1., 0.])\n",
    "\n",
    "for epoch in range(epochs):\n",
    "    total_loss = 0\n",
    "\n",
    "    for iteration in range(len(inputs)):\n",
    "        input_i = inputs[iteration]\n",
    "        labels_i = labels[iteration]\n",
    "\n",
    "        output_i = new_model(input_i)\n",
    "\n",
    "        loss = (output_i -labels_i)**2\n",
    "\n",
    "        loss.backward()\n",
    "\n",
    "        total_loss += float(loss)\n",
    "    \n",
    "    if(total_loss <0.0001):\n",
    "        print(\"Epochs : \", epoch)\n",
    "        break\n",
    "\n",
    "    optimizer.step()\n",
    "    optimizer.zero_grad()\n",
    "    print(f\"Epoch Count: {epoch}, Loss: {total_loss}\")\n",
    "\n",
    "print(f\"Final bias after optimization {new_model.final_bias.data}\")"
   ]
  },
  {
   "cell_type": "code",
   "execution_count": 58,
   "metadata": {},
   "outputs": [
    {
     "data": {
      "text/plain": [
       "tensor(1.0081, grad_fn=<ReluBackward0>)"
      ]
     },
     "execution_count": 58,
     "metadata": {},
     "output_type": "execute_result"
    }
   ],
   "source": [
    "new_model(torch.tensor(0.5))"
   ]
  },
  {
   "cell_type": "code",
   "execution_count": 59,
   "metadata": {},
   "outputs": [
    {
     "data": {
      "text/plain": [
       "tensor(17.0100, grad_fn=<ReluBackward0>)"
      ]
     },
     "execution_count": 59,
     "metadata": {},
     "output_type": "execute_result"
    }
   ],
   "source": [
    "new_model1 = basicNN_train()\n",
    "new_model1(torch.tensor(0.5))"
   ]
  },
  {
   "cell_type": "code",
   "execution_count": null,
   "metadata": {},
   "outputs": [],
   "source": [
    "## deep inside\n",
    "# new_model = basicNN_train()\n",
    "# #optimizer \n",
    "# optimizer = SGD(new_model.parameters(), lr =0.1)\n",
    "# epochs = 100\n",
    "\n",
    "# print('Final bias before optimization : ', new_model.final_bias.data)\n",
    "\n",
    "# inputs = torch.tensor([0. , 0.5, 1.])\n",
    "# labels = torch.tensor([0. , 1., 0.])\n",
    "\n",
    "# for epoch in range(epochs):\n",
    "#     total_loss = 0\n",
    "\n",
    "#     for iteration in range(len(inputs)):\n",
    "#         input_i = inputs[iteration]\n",
    "#         labels_i = labels[iteration]\n",
    "#         print(\"input 1 =====>\", input_i)\n",
    "#         print(\"labels_i =====>\", labels_i)\n",
    "#         output_i = new_model(input_i)\n",
    "#         print(\"output_i =====>\",output_i)\n",
    "#         loss = (output_i -labels_i)**2\n",
    "#         print(\"loss wo sqare =====>\",(output_i -labels_i))\n",
    "#         print(\"loss =====>\",loss)\n",
    "#         loss.backward()\n",
    "\n",
    "#         total_loss += float(loss)\n",
    "    \n",
    "#     if(total_loss <0.0001):\n",
    "#         print(\"Epochs : \", epoch)\n",
    "#         break\n",
    "\n",
    "#     optimizer.step()\n",
    "#     optimizer.zero_grad()\n",
    "#     print(f\"Epoch Count: {epoch}, Loss: {total_loss}\")\n",
    "\n",
    "# print(f\"Final bias after optimization {new_model.final_bias.data}\")"
   ]
  }
 ],
 "metadata": {
  "kernelspec": {
   "display_name": "pytorch",
   "language": "python",
   "name": "python3"
  },
  "language_info": {
   "codemirror_mode": {
    "name": "ipython",
    "version": 3
   },
   "file_extension": ".py",
   "mimetype": "text/x-python",
   "name": "python",
   "nbconvert_exporter": "python",
   "pygments_lexer": "ipython3",
   "version": "3.10.4"
  }
 },
 "nbformat": 4,
 "nbformat_minor": 2
}
