{
 "cells": [
  {
   "cell_type": "code",
   "execution_count": 2,
   "metadata": {},
   "outputs": [],
   "source": [
    "import torch\n",
    "import torch.nn as nn\n",
    "import torch.nn.functional as F"
   ]
  },
  {
   "cell_type": "code",
   "execution_count": 15,
   "metadata": {},
   "outputs": [],
   "source": [
    "class basicNN(nn.Module):\n",
    "    def __init__(self):\n",
    "        super().__init__()\n",
    "        self.w00 = nn.Parameter(torch.tensor(1.7), requires_grad = False)\n",
    "        self.b00 = nn.Parameter(torch.tensor(-0.85), requires_grad = False)\n",
    "        self.w01 = nn.Parameter(torch.tensor(-4.0), requires_grad = False)\n",
    "\n",
    "        self.w10 = nn.Parameter(torch.tensor(12.6), requires_grad = False)\n",
    "        self.b10 = nn.Parameter(torch.tensor(0.0), requires_grad = False)\n",
    "        self.w11 = nn.Parameter(torch.tensor(2.7), requires_grad = False)\n",
    "\n",
    "        self.final_bias = nn.Parameter(torch.tensor(-16.0), requires_grad = False)\n",
    "\n",
    "    def forward(self, input):\n",
    "        input_to_top_relu = input *self.w00+self.b00\n",
    "        top_relu_output = F.relu(input_to_top_relu)\n",
    "        scaled_top_relu_output = top_relu_output*self.w01\n",
    "\n",
    "        input_to_buttom_relu = input * self.w10+self.b10\n",
    "        buttom_relu_output = F.relu(input_to_buttom_relu)\n",
    "        scaled_buttom_relu_output = buttom_relu_output*self.w11\n",
    "\n",
    "        input_to_final_relu = scaled_top_relu_output+scaled_buttom_relu_output+self.final_bias\n",
    "        output = F.relu(input_to_final_relu)\n",
    "        return output\n"
   ]
  },
  {
   "cell_type": "code",
   "execution_count": 16,
   "metadata": {},
   "outputs": [
    {
     "data": {
      "text/plain": [
       "tensor([ 0.0000,  0.0000,  0.0000,  0.0000,  0.0000,  1.0100,  3.7320,  6.4540,\n",
       "         9.1760, 11.8980, 14.6200])"
      ]
     },
     "execution_count": 16,
     "metadata": {},
     "output_type": "execute_result"
    }
   ],
   "source": [
    "input_data = torch.linspace(start =0, end = 1, steps=11)\n",
    "\n",
    "model = basicNN()\n",
    "output_values = model(input_data)\n",
    "output_values"
   ]
  },
  {
   "cell_type": "code",
   "execution_count": 17,
   "metadata": {},
   "outputs": [
    {
     "data": {
      "text/plain": [
       "tensor([0.0000, 0.1000, 0.2000, 0.3000, 0.4000, 0.5000, 0.6000, 0.7000, 0.8000,\n",
       "        0.9000, 1.0000])"
      ]
     },
     "execution_count": 17,
     "metadata": {},
     "output_type": "execute_result"
    }
   ],
   "source": [
    "input_data"
   ]
  },
  {
   "cell_type": "code",
   "execution_count": null,
   "metadata": {},
   "outputs": [],
   "source": []
  }
 ],
 "metadata": {
  "kernelspec": {
   "display_name": "pytorch",
   "language": "python",
   "name": "python3"
  },
  "language_info": {
   "codemirror_mode": {
    "name": "ipython",
    "version": 3
   },
   "file_extension": ".py",
   "mimetype": "text/x-python",
   "name": "python",
   "nbconvert_exporter": "python",
   "pygments_lexer": "ipython3",
   "version": "3.10.4"
  }
 },
 "nbformat": 4,
 "nbformat_minor": 2
}
