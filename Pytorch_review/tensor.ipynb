{
 "cells": [
  {
   "cell_type": "code",
   "execution_count": 1,
   "metadata": {},
   "outputs": [],
   "source": [
    "import torch"
   ]
  },
  {
   "cell_type": "code",
   "execution_count": 2,
   "metadata": {},
   "outputs": [],
   "source": [
    "myTensor = torch.tensor([1.0,2.0,3.0])"
   ]
  },
  {
   "cell_type": "code",
   "execution_count": 3,
   "metadata": {},
   "outputs": [
    {
     "data": {
      "text/plain": [
       "tensor([1., 2., 3.])"
      ]
     },
     "execution_count": 3,
     "metadata": {},
     "output_type": "execute_result"
    }
   ],
   "source": [
    "myTensor"
   ]
  },
  {
   "cell_type": "code",
   "execution_count": 5,
   "metadata": {},
   "outputs": [
    {
     "data": {
      "text/plain": [
       "False"
      ]
     },
     "execution_count": 5,
     "metadata": {},
     "output_type": "execute_result"
    }
   ],
   "source": [
    "#Check if cuda support is available in current system\n",
    "torch.cuda.is_available()"
   ]
  },
  {
   "cell_type": "code",
   "execution_count": 8,
   "metadata": {},
   "outputs": [
    {
     "name": "stdout",
     "output_type": "stream",
     "text": [
      "tensor([-1.8891e+26])\n"
     ]
    }
   ],
   "source": [
    "#creating scalar empty tensor\n",
    "scalarTensor = torch.empty(1)\n",
    "print(scalarTensor)"
   ]
  },
  {
   "cell_type": "code",
   "execution_count": 9,
   "metadata": {},
   "outputs": [
    {
     "name": "stdout",
     "output_type": "stream",
     "text": [
      "tensor([[9.2508e-41, 2.1398e-42, 0.0000e+00],\n",
      "        [0.0000e+00, 0.0000e+00, 0.0000e+00]])\n"
     ]
    }
   ],
   "source": [
    "#creating a 2d empty tensor\n",
    "tensor2d= torch.empty(2,3)\n",
    "print(tensor2d)"
   ]
  },
  {
   "cell_type": "code",
   "execution_count": 10,
   "metadata": {},
   "outputs": [
    {
     "name": "stdout",
     "output_type": "stream",
     "text": [
      "tensor([[[9.2777e-41, 2.1398e-42, 0.0000e+00, 0.0000e+00],\n",
      "         [0.0000e+00, 0.0000e+00, 0.0000e+00, 0.0000e+00],\n",
      "         [0.0000e+00, 0.0000e+00, 0.0000e+00, 0.0000e+00]],\n",
      "\n",
      "        [[0.0000e+00, 0.0000e+00, 0.0000e+00, 0.0000e+00],\n",
      "         [0.0000e+00, 0.0000e+00, 0.0000e+00, 0.0000e+00],\n",
      "         [0.0000e+00, 0.0000e+00, 0.0000e+00, 0.0000e+00]]])\n"
     ]
    }
   ],
   "source": [
    "#creating a 3d empty tensor\n",
    "tensor3d = torch.empty(2,3,4)\n",
    "print(tensor3d)"
   ]
  },
  {
   "cell_type": "code",
   "execution_count": 11,
   "metadata": {},
   "outputs": [
    {
     "name": "stdout",
     "output_type": "stream",
     "text": [
      "tensor([[0.8356, 0.7063, 0.0421, 0.3254, 0.4151],\n",
      "        [0.9230, 0.7328, 0.4480, 0.4100, 0.6827],\n",
      "        [0.4785, 0.6703, 0.0290, 0.8826, 0.7689]])\n"
     ]
    }
   ],
   "source": [
    "#creating a tensor with random values\n",
    "randomTensor = torch.rand(3,5)\n",
    "print(randomTensor)"
   ]
  },
  {
   "cell_type": "code",
   "execution_count": 12,
   "metadata": {},
   "outputs": [
    {
     "name": "stdout",
     "output_type": "stream",
     "text": [
      "tensor([[0., 0., 0.],\n",
      "        [0., 0., 0.],\n",
      "        [0., 0., 0.]])\n",
      "tensor([[1., 1., 1., 1.],\n",
      "        [1., 1., 1., 1.],\n",
      "        [1., 1., 1., 1.],\n",
      "        [1., 1., 1., 1.]])\n"
     ]
    }
   ],
   "source": [
    "#creating a tensor with zeros and ones\n",
    "zerosTensor = torch.zeros(3,3)\n",
    "print(zerosTensor)\n",
    "onesTensor = torch.ones(4,4)\n",
    "print(onesTensor)"
   ]
  },
  {
   "cell_type": "code",
   "execution_count": 13,
   "metadata": {},
   "outputs": [
    {
     "data": {
      "text/plain": [
       "tensor([[0.7009, 0.5573, 0.7848],\n",
       "        [1.4929, 0.8534, 1.0380],\n",
       "        [1.1360, 1.0180, 0.3505]])"
      ]
     },
     "execution_count": 13,
     "metadata": {},
     "output_type": "execute_result"
    }
   ],
   "source": [
    "#basic operations with tensors\n",
    "val1 = torch.rand(3,3)\n",
    "val2 = torch.rand(3,3)\n",
    "\n",
    "val1.add(val2)"
   ]
  },
  {
   "cell_type": "code",
   "execution_count": 16,
   "metadata": {},
   "outputs": [
    {
     "data": {
      "text/plain": [
       "tensor([[-0.2714, -0.1927, -0.4838],\n",
       "        [-0.1534, -0.7672, -0.6300],\n",
       "        [-0.6370,  0.8158, -0.2486]])"
      ]
     },
     "execution_count": 16,
     "metadata": {},
     "output_type": "execute_result"
    }
   ],
   "source": [
    "val1.sub(val2)"
   ]
  },
  {
   "cell_type": "code",
   "execution_count": 17,
   "metadata": {},
   "outputs": [
    {
     "data": {
      "text/plain": [
       "tensor([[-0.2714, -0.1927, -0.4838],\n",
       "        [-0.1534, -0.7672, -0.6300],\n",
       "        [-0.6370,  0.8158, -0.2486]])"
      ]
     },
     "execution_count": 17,
     "metadata": {},
     "output_type": "execute_result"
    }
   ],
   "source": [
    "val1-val2"
   ]
  },
  {
   "cell_type": "code",
   "execution_count": 18,
   "metadata": {},
   "outputs": [
    {
     "data": {
      "text/plain": [
       "tensor([[0.1044, 0.0684, 0.0954],\n",
       "        [0.5513, 0.0349, 0.1702],\n",
       "        [0.2212, 0.0927, 0.0153]])"
      ]
     },
     "execution_count": 18,
     "metadata": {},
     "output_type": "execute_result"
    }
   ],
   "source": [
    "torch.mul(val1, val2)"
   ]
  },
  {
   "cell_type": "code",
   "execution_count": 19,
   "metadata": {},
   "outputs": [
    {
     "data": {
      "text/plain": [
       "tensor([[0.1044, 0.0684, 0.0954],\n",
       "        [0.5513, 0.0349, 0.1702],\n",
       "        [0.2212, 0.0927, 0.0153]])"
      ]
     },
     "execution_count": 19,
     "metadata": {},
     "output_type": "execute_result"
    }
   ],
   "source": [
    "val1*val2"
   ]
  },
  {
   "cell_type": "code",
   "execution_count": 20,
   "metadata": {},
   "outputs": [
    {
     "data": {
      "text/plain": [
       "tensor([[0.4418, 0.4861, 0.2372],\n",
       "        [0.8136, 0.0532, 0.2446],\n",
       "        [0.2815, 9.0696, 0.1700]])"
      ]
     },
     "execution_count": 20,
     "metadata": {},
     "output_type": "execute_result"
    }
   ],
   "source": [
    "torch.div(val1, val2)"
   ]
  },
  {
   "cell_type": "code",
   "execution_count": 21,
   "metadata": {},
   "outputs": [
    {
     "name": "stdout",
     "output_type": "stream",
     "text": [
      "tensor([[0.6706, 0.7286, 0.6156, 0.1988, 0.9487, 0.8028, 0.9879],\n",
      "        [0.4960, 0.1304, 0.0419, 0.5005, 0.1198, 0.5005, 0.0364],\n",
      "        [0.4523, 0.6614, 0.9220, 0.9598, 0.0510, 0.5741, 0.2071],\n",
      "        [0.2189, 0.7640, 0.2709, 0.1709, 0.1962, 0.7482, 0.0433],\n",
      "        [0.7169, 0.8248, 0.8087, 0.6162, 0.1364, 0.6563, 0.7211]])\n",
      "tensor([0.7286, 0.1304, 0.6614, 0.7640, 0.8248])\n"
     ]
    }
   ],
   "source": [
    "#slicing operations in tensors\n",
    "tensor2 = torch.rand(5,7)\n",
    "print(tensor2)\n",
    "#Print all row of second column\n",
    "print(tensor2[:, 1])"
   ]
  },
  {
   "cell_type": "code",
   "execution_count": 24,
   "metadata": {},
   "outputs": [
    {
     "name": "stdout",
     "output_type": "stream",
     "text": [
      "tensor([0.6706, 0.7286, 0.6156, 0.1988, 0.9487, 0.8028, 0.9879])\n"
     ]
    }
   ],
   "source": [
    "#print first row and all columns\n",
    "print(tensor2[0, :])"
   ]
  },
  {
   "cell_type": "code",
   "execution_count": 26,
   "metadata": {},
   "outputs": [
    {
     "name": "stdout",
     "output_type": "stream",
     "text": [
      "tensor(0.9598)\n"
     ]
    }
   ],
   "source": [
    "#prints third row's forth item.\n",
    "print(tensor2[2,3])"
   ]
  },
  {
   "cell_type": "code",
   "execution_count": 29,
   "metadata": {},
   "outputs": [
    {
     "name": "stdout",
     "output_type": "stream",
     "text": [
      "tensor(0.7211)\n"
     ]
    }
   ],
   "source": [
    "#prints items from last row and last column\n",
    "print(tensor2[-1,-1])"
   ]
  },
  {
   "cell_type": "code",
   "execution_count": 35,
   "metadata": {},
   "outputs": [
    {
     "name": "stdout",
     "output_type": "stream",
     "text": [
      "tensor([[0.9474, 0.2521, 0.3957, 0.4241],\n",
      "        [0.0095, 0.9092, 0.8409, 0.0462],\n",
      "        [0.5999, 0.6158, 0.9658, 0.4753],\n",
      "        [0.1904, 0.1237, 0.9529, 0.4015]])\n",
      "Tensor size is : torch.Size([4, 4])\n",
      "Reshaped tensor to 1* 16 :  tensor([0.9474, 0.2521, 0.3957, 0.4241, 0.0095, 0.9092, 0.8409, 0.0462, 0.5999,\n",
      "        0.6158, 0.9658, 0.4753, 0.1904, 0.1237, 0.9529, 0.4015])\n",
      "Reshaed tensor to 2*8 : tensor([[0.9474, 0.2521, 0.3957, 0.4241, 0.0095, 0.9092, 0.8409, 0.0462],\n",
      "        [0.5999, 0.6158, 0.9658, 0.4753, 0.1904, 0.1237, 0.9529, 0.4015]])\n"
     ]
    }
   ],
   "source": [
    "tensor3 = torch.rand(4,4)\n",
    "print(tensor3)\n",
    "print(f'Tensor size is :', tensor3.size())\n",
    "\n",
    "print(f'Reshaped tensor to 1* 16 : ', tensor3.view(16))\n",
    "\n",
    "print(f'Reshaed tensor to 2*8 :' , tensor3.view(2,8))"
   ]
  },
  {
   "cell_type": "code",
   "execution_count": 44,
   "metadata": {},
   "outputs": [
    {
     "name": "stdout",
     "output_type": "stream",
     "text": [
      "<class 'torch.Tensor'>\n",
      "Type after conversion:  <class 'numpy.ndarray'>\n",
      "tensor([2., 2., 2., 2., 2.])\n",
      "[2. 2. 2. 2. 2.]\n",
      "tensor([1., 1., 1., 1., 1.], dtype=torch.float64)\n"
     ]
    }
   ],
   "source": [
    "#Converting numpy array to torch tensor\n",
    "import numpy as np\n",
    "\n",
    "tensor4 = torch.ones(5)\n",
    "print(type(tensor4))\n",
    "npArray = tensor4.numpy()\n",
    "print(f'Type after conversion: ', type(npArray))\n",
    "\n",
    "# if the tensor are stored in the share the same location, hence modifying one tensor effects the older one.\n",
    "#Example\n",
    "print(tensor4.add_(1))\n",
    "print(npArray)\n",
    "\n",
    "\n",
    "#np array to torch tensor\n",
    "npArray1 = np.ones(5)\n",
    "tensor5 = torch.from_numpy(npArray1)\n",
    "print(tensor5)"
   ]
  },
  {
   "cell_type": "code",
   "execution_count": null,
   "metadata": {},
   "outputs": [],
   "source": []
  }
 ],
 "metadata": {
  "kernelspec": {
   "display_name": "pytorch",
   "language": "python",
   "name": "python3"
  },
  "language_info": {
   "codemirror_mode": {
    "name": "ipython",
    "version": 3
   },
   "file_extension": ".py",
   "mimetype": "text/x-python",
   "name": "python",
   "nbconvert_exporter": "python",
   "pygments_lexer": "ipython3",
   "version": "3.10.4"
  }
 },
 "nbformat": 4,
 "nbformat_minor": 2
}
