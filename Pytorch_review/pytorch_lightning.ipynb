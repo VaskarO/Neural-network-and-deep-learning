{
 "cells": [
  {
   "cell_type": "code",
   "execution_count": null,
   "metadata": {},
   "outputs": [],
   "source": [
    "import torch\n",
    "import torch.nn as nn\n",
    "import torch.nn.functional as F\n",
    "from torch.optim import SGD\n",
    "import lightning as L\n",
    "from torch.utils.data import TensorDataset, DataLoader\n",
    "import matplotlib.pyplot as plt\n",
    "import seaborn as sns"
   ]
  },
  {
   "cell_type": "code",
   "execution_count": null,
   "metadata": {},
   "outputs": [],
   "source": [
    "#Creating new network to update final_bias value by itself\n",
    "class BasicNN_lightning(L.LightningModule):\n",
    "    def __init__(self):\n",
    "        super().__init__()\n",
    "        self.w00 = nn.Parameter(torch.tensor(1.7), requires_grad = False)\n",
    "        self.b00 = nn.Parameter(torch.tensor(-0.85), requires_grad = False)\n",
    "        self.w01 = nn.Parameter(torch.tensor(-40.8), requires_grad = False)\n",
    "\n",
    "        self.w10 = nn.Parameter(torch.tensor(12.6), requires_grad = False)\n",
    "        self.b10 = nn.Parameter(torch.tensor(0.0), requires_grad = False)\n",
    "        self.w11 = nn.Parameter(torch.tensor(2.7), requires_grad = False)\n",
    "\n",
    "        self.final_bias = nn.Parameter(torch.tensor(0.0), requires_grad = True)\n",
    "\n",
    "    def forward(self, input):\n",
    "        input_to_top_relu = input *self.w00+self.b00\n",
    "        top_relu_output = F.relu(input_to_top_relu)\n",
    "        scaled_top_relu_output = top_relu_output*self.w01\n",
    "\n",
    "        input_to_buttom_relu = input * self.w10+self.b10\n",
    "        buttom_relu_output = F.relu(input_to_buttom_relu)\n",
    "        scaled_buttom_relu_output = buttom_relu_output*self.w11\n",
    "\n",
    "        input_to_final_relu = scaled_top_relu_output+scaled_buttom_relu_output+self.final_bias\n",
    "        output = F.relu(input_to_final_relu)\n",
    "        return output\n",
    "    def configure_optimizers(self):\n",
    "        return SGD(self.parameters(), lr = self.learning_rate)\n",
    "\n",
    "    def training_step(self, batch, batch_idx):\n",
    "        input_i, label_i = batch\n",
    "        output_i = self.forward(input_i)\n",
    "        loss = (output_i -label_i)**2\n",
    "        return loss\n",
    "\n",
    "\n"
   ]
  },
  {
   "cell_type": "code",
   "execution_count": null,
   "metadata": {},
   "outputs": [],
   "source": [
    "inputs = torch.tensor([0., -.5, 1.])\n",
    "labels = torch.tensor([0., 1., 0.])\n",
    "\n",
    "dataset = TensorDataset(inputs, labels)\n",
    "dataloader = DataLoader(dataset)"
   ]
  },
  {
   "cell_type": "code",
   "execution_count": null,
   "metadata": {},
   "outputs": [],
   "source": [
    "\n",
    "\n",
    "model = BasicNN_lightning()\n",
    "\n",
    "trainer = L.Trainer(max_epochs = 50)\n",
    "\n",
    "lr_find_results = trainer.tuner.lr_find(model, train_dataloaders = dataloader,\n",
    "                                        min_lr = 0.001, max_lr = 1.0, early_stop_threshold= None)\n",
    "\n",
    "new_lr = lr_find_results.suggestion()\n",
    "print(f'For learning rate : lr_find() suggests {new_lr:.4f}')\n",
    "\n",
    "\n",
    "model.learning_rate = new_lr\n",
    "\n",
    "trainer.fit(model,train_dataloader = dataloader)"
   ]
  },
  {
   "cell_type": "code",
   "execution_count": null,
   "metadata": {},
   "outputs": [],
   "source": [
    "output_values = model(inputs)\n",
    "sns.set(style='whitegrid')\n",
    "sns.lineplot(x= inputs,\n",
    "             y = output_values.detach(),\n",
    "             color = green,\n",
    "             linewidth = 2.5)\n",
    "plt.ylabel('Effectiveness')\n",
    "plt.xlabel('values')"
   ]
  }
 ],
 "metadata": {
  "kernelspec": {
   "display_name": "pytorch",
   "language": "python",
   "name": "python3"
  },
  "language_info": {
   "codemirror_mode": {
    "name": "ipython",
    "version": 3
   },
   "file_extension": ".py",
   "mimetype": "text/x-python",
   "name": "python",
   "nbconvert_exporter": "python",
   "pygments_lexer": "ipython3",
   "version": "3.10.4"
  }
 },
 "nbformat": 4,
 "nbformat_minor": 2
}
