{
 "cells": [
  {
   "cell_type": "code",
   "execution_count": null,
   "metadata": {},
   "outputs": [],
   "source": [
    "import torch\n",
    "import torchvision\n",
    "from torch.util.data import Dataset, DataLoader\n",
    "import numpy as np\n",
    "import math\n",
    "\n",
    "class Dataset1(Dataset):\n",
    "    def __init__(self):\n",
    "        data= np.loadtxt('./data/sample.csv', delimiter= ',', type= np.float32, skiprow=1)\n",
    "        self.X = torch.from_numpy(data[:, 1:])\n",
    "        self.y = torch.from_numpy(data[:, [0]])\n",
    "        self.n_samples = data.shape[0]\n",
    "\n",
    "    def __getitem___(self,index):\n",
    "        return self.X[index], self.y[index]\n",
    "    \n",
    "    def __len__(self):\n",
    "        return self.n_samples\n",
    "    \n",
    "    dataset = Dataset()\n",
    "    dataloader = DataLoader(dataset= dataset, batch= 20, shuffle = True, num_worker = 2)\n",
    "\n",
    "    # datatiter = iter(dataloader)\n",
    "    # data = datatiter.next()\n",
    "    # features, labels = data\n",
    "    # print(features, labels)\n",
    "\n",
    "epochs = 20\n",
    "total_samples = len(dataset)\n",
    "n_iterations= math.ceil(total_samples/20)\n",
    "print(total_samples, n_iterations)\n",
    "\n",
    "for epoch in range(epochs):\n",
    "    for i, (inputs, labels) in enumerate(dataloader):\n",
    "        if(i+1)%10==0:\n",
    "            print(f'Epoch count: {epoch+1} step {i+1}/{n_iterations}, inputs {inputs.shape} ')\n",
    "                                  "
   ]
  }
 ],
 "metadata": {
  "language_info": {
   "name": "python"
  }
 },
 "nbformat": 4,
 "nbformat_minor": 2
}
