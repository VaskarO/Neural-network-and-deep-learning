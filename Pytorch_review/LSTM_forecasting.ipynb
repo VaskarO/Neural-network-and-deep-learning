{
 "cells": [
  {
   "cell_type": "markdown",
   "metadata": {},
   "source": [
    "This code trains an LSTM model to predict Amazon stock closing prices using historical data. The process involves reading and preprocessing the dataset, scaling the features, and reshaping the data for the LSTM. The data is then split into training and testing sets, and a custom PyTorch dataset and dataloaders are created. An LSTM model is defined, and a training loop is implemented to optimize the model using the Adam optimizer and MSE loss. After training, the model's predictions are plotted against actual values to visualize performance. The goal is to predict future stock prices based on past data using deep learning."
   ]
  },
  {
   "cell_type": "code",
   "execution_count": 1,
   "metadata": {},
   "outputs": [],
   "source": [
    "# Import necessary libraries for deep learning, data manipulation, and visualization\n",
    "# Assuming further code involves deep learning model training or data preprocessing steps.\n",
    "import torch\n",
    "import torch.nn as nn\n",
    "import numpy as np\n",
    "import matplotlib.pyplot as plt\n",
    "import pandas as pd\n",
    "from sklearn.preprocessing import MinMaxScaler"
   ]
  },
  {
   "cell_type": "code",
   "execution_count": 2,
   "metadata": {},
   "outputs": [
    {
     "data": {
      "text/html": [
       "<div>\n",
       "<style scoped>\n",
       "    .dataframe tbody tr th:only-of-type {\n",
       "        vertical-align: middle;\n",
       "    }\n",
       "\n",
       "    .dataframe tbody tr th {\n",
       "        vertical-align: top;\n",
       "    }\n",
       "\n",
       "    .dataframe thead th {\n",
       "        text-align: right;\n",
       "    }\n",
       "</style>\n",
       "<table border=\"1\" class=\"dataframe\">\n",
       "  <thead>\n",
       "    <tr style=\"text-align: right;\">\n",
       "      <th></th>\n",
       "      <th>Date</th>\n",
       "      <th>Open</th>\n",
       "      <th>High</th>\n",
       "      <th>Low</th>\n",
       "      <th>Close</th>\n",
       "      <th>Adj Close</th>\n",
       "      <th>Volume</th>\n",
       "    </tr>\n",
       "  </thead>\n",
       "  <tbody>\n",
       "    <tr>\n",
       "      <th>0</th>\n",
       "      <td>1997-05-15</td>\n",
       "      <td>0.121875</td>\n",
       "      <td>0.125000</td>\n",
       "      <td>0.096354</td>\n",
       "      <td>0.097917</td>\n",
       "      <td>0.097917</td>\n",
       "      <td>1443120000</td>\n",
       "    </tr>\n",
       "    <tr>\n",
       "      <th>1</th>\n",
       "      <td>1997-05-16</td>\n",
       "      <td>0.098438</td>\n",
       "      <td>0.098958</td>\n",
       "      <td>0.085417</td>\n",
       "      <td>0.086458</td>\n",
       "      <td>0.086458</td>\n",
       "      <td>294000000</td>\n",
       "    </tr>\n",
       "    <tr>\n",
       "      <th>2</th>\n",
       "      <td>1997-05-19</td>\n",
       "      <td>0.088021</td>\n",
       "      <td>0.088542</td>\n",
       "      <td>0.081250</td>\n",
       "      <td>0.085417</td>\n",
       "      <td>0.085417</td>\n",
       "      <td>122136000</td>\n",
       "    </tr>\n",
       "    <tr>\n",
       "      <th>3</th>\n",
       "      <td>1997-05-20</td>\n",
       "      <td>0.086458</td>\n",
       "      <td>0.087500</td>\n",
       "      <td>0.081771</td>\n",
       "      <td>0.081771</td>\n",
       "      <td>0.081771</td>\n",
       "      <td>109344000</td>\n",
       "    </tr>\n",
       "    <tr>\n",
       "      <th>4</th>\n",
       "      <td>1997-05-21</td>\n",
       "      <td>0.081771</td>\n",
       "      <td>0.082292</td>\n",
       "      <td>0.068750</td>\n",
       "      <td>0.071354</td>\n",
       "      <td>0.071354</td>\n",
       "      <td>377064000</td>\n",
       "    </tr>\n",
       "  </tbody>\n",
       "</table>\n",
       "</div>"
      ],
      "text/plain": [
       "         Date      Open      High       Low     Close  Adj Close      Volume\n",
       "0  1997-05-15  0.121875  0.125000  0.096354  0.097917   0.097917  1443120000\n",
       "1  1997-05-16  0.098438  0.098958  0.085417  0.086458   0.086458   294000000\n",
       "2  1997-05-19  0.088021  0.088542  0.081250  0.085417   0.085417   122136000\n",
       "3  1997-05-20  0.086458  0.087500  0.081771  0.081771   0.081771   109344000\n",
       "4  1997-05-21  0.081771  0.082292  0.068750  0.071354   0.071354   377064000"
      ]
     },
     "execution_count": 2,
     "metadata": {},
     "output_type": "execute_result"
    }
   ],
   "source": [
    "# Read the Amazon stock price data from a CSV file\n",
    "dataset = pd.read_csv('./datasets/AMZN.csv')\n",
    "dataset.head()"
   ]
  },
  {
   "cell_type": "code",
   "execution_count": 3,
   "metadata": {},
   "outputs": [
    {
     "data": {
      "text/html": [
       "<div>\n",
       "<style scoped>\n",
       "    .dataframe tbody tr th:only-of-type {\n",
       "        vertical-align: middle;\n",
       "    }\n",
       "\n",
       "    .dataframe tbody tr th {\n",
       "        vertical-align: top;\n",
       "    }\n",
       "\n",
       "    .dataframe thead th {\n",
       "        text-align: right;\n",
       "    }\n",
       "</style>\n",
       "<table border=\"1\" class=\"dataframe\">\n",
       "  <thead>\n",
       "    <tr style=\"text-align: right;\">\n",
       "      <th></th>\n",
       "      <th>Date</th>\n",
       "      <th>Close</th>\n",
       "    </tr>\n",
       "  </thead>\n",
       "  <tbody>\n",
       "    <tr>\n",
       "      <th>0</th>\n",
       "      <td>1997-05-15</td>\n",
       "      <td>0.097917</td>\n",
       "    </tr>\n",
       "    <tr>\n",
       "      <th>1</th>\n",
       "      <td>1997-05-16</td>\n",
       "      <td>0.086458</td>\n",
       "    </tr>\n",
       "    <tr>\n",
       "      <th>2</th>\n",
       "      <td>1997-05-19</td>\n",
       "      <td>0.085417</td>\n",
       "    </tr>\n",
       "    <tr>\n",
       "      <th>3</th>\n",
       "      <td>1997-05-20</td>\n",
       "      <td>0.081771</td>\n",
       "    </tr>\n",
       "    <tr>\n",
       "      <th>4</th>\n",
       "      <td>1997-05-21</td>\n",
       "      <td>0.071354</td>\n",
       "    </tr>\n",
       "  </tbody>\n",
       "</table>\n",
       "</div>"
      ],
      "text/plain": [
       "         Date     Close\n",
       "0  1997-05-15  0.097917\n",
       "1  1997-05-16  0.086458\n",
       "2  1997-05-19  0.085417\n",
       "3  1997-05-20  0.081771\n",
       "4  1997-05-21  0.071354"
      ]
     },
     "execution_count": 3,
     "metadata": {},
     "output_type": "execute_result"
    }
   ],
   "source": [
    "# Selecting 'Date' and 'Close' columns from the dataset\n",
    "dataset = dataset[['Date', 'Close']]\n",
    "dataset.head()"
   ]
  },
  {
   "cell_type": "code",
   "execution_count": 4,
   "metadata": {},
   "outputs": [
    {
     "data": {
      "text/plain": [
       "[<matplotlib.lines.Line2D at 0x1bb161e2aa0>]"
      ]
     },
     "execution_count": 4,
     "metadata": {},
     "output_type": "execute_result"
    },
    {
     "data": {
      "image/png": "[encoded data removed]",
      "text/plain": [
       "<Figure size 640x480 with 1 Axes>"
      ]
     },
     "metadata": {},
     "output_type": "display_data"
    }
   ],
   "source": [
    "# Plotting the closing prices over time\n",
    "plt.plot(pd.to_datetime(dataset['Date']), dataset['Close'])"
   ]
  },
  {
   "cell_type": "code",
   "execution_count": 15,
   "metadata": {},
   "outputs": [
    {
     "data": {
      "text/html": [
       "<div>\n",
       "<style scoped>\n",
       "    .dataframe tbody tr th:only-of-type {\n",
       "        vertical-align: middle;\n",
       "    }\n",
       "\n",
       "    .dataframe tbody tr th {\n",
       "        vertical-align: top;\n",
       "    }\n",
       "\n",
       "    .dataframe thead th {\n",
       "        text-align: right;\n",
       "    }\n",
       "</style>\n",
       "<table border=\"1\" class=\"dataframe\">\n",
       "  <thead>\n",
       "    <tr style=\"text-align: right;\">\n",
       "      <th></th>\n",
       "      <th>Close</th>\n",
       "      <th>Close(t-1)</th>\n",
       "      <th>Close(t-2)</th>\n",
       "      <th>Close(t-3)</th>\n",
       "      <th>Close(t-4)</th>\n",
       "      <th>Close(t-5)</th>\n",
       "      <th>Close(t-6)</th>\n",
       "      <th>Close(t-7)</th>\n",
       "    </tr>\n",
       "    <tr>\n",
       "      <th>Date</th>\n",
       "      <th></th>\n",
       "      <th></th>\n",
       "      <th></th>\n",
       "      <th></th>\n",
       "      <th></th>\n",
       "      <th></th>\n",
       "      <th></th>\n",
       "      <th></th>\n",
       "    </tr>\n",
       "  </thead>\n",
       "  <tbody>\n",
       "    <tr>\n",
       "      <th>1997-05-27</th>\n",
       "      <td>0.079167</td>\n",
       "      <td>0.075000</td>\n",
       "      <td>0.069792</td>\n",
       "      <td>0.071354</td>\n",
       "      <td>0.081771</td>\n",
       "      <td>0.085417</td>\n",
       "      <td>0.086458</td>\n",
       "      <td>0.097917</td>\n",
       "    </tr>\n",
       "    <tr>\n",
       "      <th>1997-05-28</th>\n",
       "      <td>0.076563</td>\n",
       "      <td>0.079167</td>\n",
       "      <td>0.075000</td>\n",
       "      <td>0.069792</td>\n",
       "      <td>0.071354</td>\n",
       "      <td>0.081771</td>\n",
       "      <td>0.085417</td>\n",
       "      <td>0.086458</td>\n",
       "    </tr>\n",
       "    <tr>\n",
       "      <th>1997-05-29</th>\n",
       "      <td>0.075260</td>\n",
       "      <td>0.076563</td>\n",
       "      <td>0.079167</td>\n",
       "      <td>0.075000</td>\n",
       "      <td>0.069792</td>\n",
       "      <td>0.071354</td>\n",
       "      <td>0.081771</td>\n",
       "      <td>0.085417</td>\n",
       "    </tr>\n",
       "    <tr>\n",
       "      <th>1997-05-30</th>\n",
       "      <td>0.075000</td>\n",
       "      <td>0.075260</td>\n",
       "      <td>0.076563</td>\n",
       "      <td>0.079167</td>\n",
       "      <td>0.075000</td>\n",
       "      <td>0.069792</td>\n",
       "      <td>0.071354</td>\n",
       "      <td>0.081771</td>\n",
       "    </tr>\n",
       "    <tr>\n",
       "      <th>1997-06-02</th>\n",
       "      <td>0.075521</td>\n",
       "      <td>0.075000</td>\n",
       "      <td>0.075260</td>\n",
       "      <td>0.076563</td>\n",
       "      <td>0.079167</td>\n",
       "      <td>0.075000</td>\n",
       "      <td>0.069792</td>\n",
       "      <td>0.071354</td>\n",
       "    </tr>\n",
       "    <tr>\n",
       "      <th>...</th>\n",
       "      <td>...</td>\n",
       "      <td>...</td>\n",
       "      <td>...</td>\n",
       "      <td>...</td>\n",
       "      <td>...</td>\n",
       "      <td>...</td>\n",
       "      <td>...</td>\n",
       "      <td>...</td>\n",
       "    </tr>\n",
       "    <tr>\n",
       "      <th>2023-03-30</th>\n",
       "      <td>102.000000</td>\n",
       "      <td>100.250000</td>\n",
       "      <td>97.239998</td>\n",
       "      <td>98.040001</td>\n",
       "      <td>98.129997</td>\n",
       "      <td>98.709999</td>\n",
       "      <td>98.699997</td>\n",
       "      <td>100.610001</td>\n",
       "    </tr>\n",
       "    <tr>\n",
       "      <th>2023-03-31</th>\n",
       "      <td>103.290001</td>\n",
       "      <td>102.000000</td>\n",
       "      <td>100.250000</td>\n",
       "      <td>97.239998</td>\n",
       "      <td>98.040001</td>\n",
       "      <td>98.129997</td>\n",
       "      <td>98.709999</td>\n",
       "      <td>98.699997</td>\n",
       "    </tr>\n",
       "    <tr>\n",
       "      <th>2023-04-03</th>\n",
       "      <td>102.410004</td>\n",
       "      <td>103.290001</td>\n",
       "      <td>102.000000</td>\n",
       "      <td>100.250000</td>\n",
       "      <td>97.239998</td>\n",
       "      <td>98.040001</td>\n",
       "      <td>98.129997</td>\n",
       "      <td>98.709999</td>\n",
       "    </tr>\n",
       "    <tr>\n",
       "      <th>2023-04-04</th>\n",
       "      <td>103.949997</td>\n",
       "      <td>102.410004</td>\n",
       "      <td>103.290001</td>\n",
       "      <td>102.000000</td>\n",
       "      <td>100.250000</td>\n",
       "      <td>97.239998</td>\n",
       "      <td>98.040001</td>\n",
       "      <td>98.129997</td>\n",
       "    </tr>\n",
       "    <tr>\n",
       "      <th>2023-04-05</th>\n",
       "      <td>101.099998</td>\n",
       "      <td>103.949997</td>\n",
       "      <td>102.410004</td>\n",
       "      <td>103.290001</td>\n",
       "      <td>102.000000</td>\n",
       "      <td>100.250000</td>\n",
       "      <td>97.239998</td>\n",
       "      <td>98.040001</td>\n",
       "    </tr>\n",
       "  </tbody>\n",
       "</table>\n",
       "<p>6509 rows × 8 columns</p>\n",
       "</div>"
      ],
      "text/plain": [
       "                 Close  Close(t-1)  Close(t-2)  Close(t-3)  Close(t-4)  \\\n",
       "Date                                                                     \n",
       "1997-05-27    0.079167    0.075000    0.069792    0.071354    0.081771   \n",
       "1997-05-28    0.076563    0.079167    0.075000    0.069792    0.071354   \n",
       "1997-05-29    0.075260    0.076563    0.079167    0.075000    0.069792   \n",
       "1997-05-30    0.075000    0.075260    0.076563    0.079167    0.075000   \n",
       "1997-06-02    0.075521    0.075000    0.075260    0.076563    0.079167   \n",
       "...                ...         ...         ...         ...         ...   \n",
       "2023-03-30  102.000000  100.250000   97.239998   98.040001   98.129997   \n",
       "2023-03-31  103.290001  102.000000  100.250000   97.239998   98.040001   \n",
       "2023-04-03  102.410004  103.290001  102.000000  100.250000   97.239998   \n",
       "2023-04-04  103.949997  102.410004  103.290001  102.000000  100.250000   \n",
       "2023-04-05  101.099998  103.949997  102.410004  103.290001  102.000000   \n",
       "\n",
       "            Close(t-5)  Close(t-6)  Close(t-7)  \n",
       "Date                                            \n",
       "1997-05-27    0.085417    0.086458    0.097917  \n",
       "1997-05-28    0.081771    0.085417    0.086458  \n",
       "1997-05-29    0.071354    0.081771    0.085417  \n",
       "1997-05-30    0.069792    0.071354    0.081771  \n",
       "1997-06-02    0.075000    0.069792    0.071354  \n",
       "...                ...         ...         ...  \n",
       "2023-03-30   98.709999   98.699997  100.610001  \n",
       "2023-03-31   98.129997   98.709999   98.699997  \n",
       "2023-04-03   98.040001   98.129997   98.709999  \n",
       "2023-04-04   97.239998   98.040001   98.129997  \n",
       "2023-04-05  100.250000   97.239998   98.040001  \n",
       "\n",
       "[6509 rows x 8 columns]"
      ]
     },
     "execution_count": 15,
     "metadata": {},
     "output_type": "execute_result"
    }
   ],
   "source": [
    "# Prepares a dataset for time series forecasting by creating lagged features.\n",
    "\n",
    "# Args:\n",
    "# - dataset (pd.DataFrame): Original dataset with 'Date' and 'Close' columns.\n",
    "# - n_steps (int): Number of lag steps to create.\n",
    "\n",
    "# Returns:\n",
    "# - pd.DataFrame: Transformed dataset with lagged features.\\\n",
    "def prepare_dataset(dataset, n_steps):\n",
    "    dataset.set_index('Date',inplace=True)\n",
    "    for i in range(1, n_steps+1):\n",
    "        dataset[f\"Close(t-{i})\"] = dataset['Close'].shift(i)\n",
    "    dataset.dropna(inplace=True)\n",
    "    return dataset\n",
    "\n",
    "look_back = 7\n",
    "shifted_df = prepare_dataset(dataset, look_back)\n",
    "shifted_df"
   ]
  },
  {
   "cell_type": "code",
   "execution_count": 16,
   "metadata": {},
   "outputs": [
    {
     "data": {
      "text/plain": [
       "array([[-0.99991063, -0.99995531, -1.        , -0.99998325, -0.99987154,\n",
       "        -0.99983244, -0.99982128, -0.99969839],\n",
       "       [-0.99993855, -0.99991063, -0.99994415, -1.        , -0.99998325,\n",
       "        -0.99987154, -0.99983244, -0.99982128],\n",
       "       [-0.99995253, -0.99993855, -0.99989946, -0.99994415, -1.        ,\n",
       "        -0.99998325, -0.99987154, -0.99983244],\n",
       "       [-0.99995531, -0.99995253, -0.99992739, -0.99989946, -0.99994415,\n",
       "        -1.        , -0.99998325, -0.99987154],\n",
       "       [-0.99994973, -0.99995531, -0.99994136, -0.99992739, -0.99989946,\n",
       "        -0.99994415, -1.        , -0.99998325]])"
      ]
     },
     "execution_count": 16,
     "metadata": {},
     "output_type": "execute_result"
    }
   ],
   "source": [
    "shifted_df_numpy = shifted_df.to_numpy()\n",
    "\n",
    "scalar = MinMaxScaler(feature_range=(-1,1))\n",
    "shifted_df_numpy = scalar.fit_transform((shifted_df_numpy))\n",
    "\n",
    "shifted_df_numpy[:5]"
   ]
  },
  {
   "cell_type": "code",
   "execution_count": 17,
   "metadata": {},
   "outputs": [
    {
     "name": "stdout",
     "output_type": "stream",
     "text": [
      "[-0.99991063 -0.99994415 -1.         -0.99998325 -0.99987154 -0.99983244\n",
      " -0.99982128] -0.999938552167786\n",
      "(6509, 7) (6509,)\n"
     ]
    }
   ],
   "source": [
    "# Extract features (X) and target (y) from the shifted dataset\n",
    "# X =Features are all columns except the first (target)\n",
    "# y=  Target is the first column\n",
    "X = shifted_df_numpy[:, 1:]\n",
    "y = shifted_df_numpy[:, 0]\n",
    "print(X[1] , y[1])\n",
    "print(X.shape, y.shape)"
   ]
  },
  {
   "cell_type": "code",
   "execution_count": 18,
   "metadata": {},
   "outputs": [
    {
     "data": {
      "text/plain": [
       "array([[-0.99969839, -0.99982128, -0.99983244, ..., -0.99998325,\n",
       "        -1.        , -0.99995531],\n",
       "       [-0.99982128, -0.99983244, -0.99987154, ..., -1.        ,\n",
       "        -0.99994415, -0.99991063],\n",
       "       [-0.99983244, -0.99987154, -0.99998325, ..., -0.99994415,\n",
       "        -0.99989946, -0.99993855],\n",
       "       ...,\n",
       "       [ 0.05779984,  0.05158   ,  0.0506149 , ...,  0.07431453,\n",
       "         0.09308121,  0.10690997],\n",
       "       [ 0.05158   ,  0.0506149 ,  0.04203581, ...,  0.09308121,\n",
       "         0.10691495,  0.09747299],\n",
       "       [ 0.0506149 ,  0.04203581,  0.07431453, ...,  0.10691495,\n",
       "         0.09747802,  0.11398769]])"
      ]
     },
     "execution_count": 18,
     "metadata": {},
     "output_type": "execute_result"
    }
   ],
   "source": [
    "# Reverse the order of features along the time axis\n",
    "X = np.flip(X, axis = 1).copy()\n",
    "X"
   ]
  },
  {
   "cell_type": "code",
   "execution_count": 19,
   "metadata": {},
   "outputs": [
    {
     "data": {
      "text/plain": [
       "6183"
      ]
     },
     "execution_count": 19,
     "metadata": {},
     "output_type": "execute_result"
    }
   ],
   "source": [
    "# Determine the index to split the data into training and testing sets\n",
    "split_index = int(len(X)*0.95)\n",
    "split_index"
   ]
  },
  {
   "cell_type": "code",
   "execution_count": 20,
   "metadata": {},
   "outputs": [
    {
     "data": {
      "text/plain": [
       "((6183, 7), (326, 7), (6183,), (326,))"
      ]
     },
     "execution_count": 20,
     "metadata": {},
     "output_type": "execute_result"
    }
   ],
   "source": [
    "# Split the data into training and testing sets based on split_index\n",
    "\n",
    "X_train = X[:split_index]\n",
    "X_test = X[split_index:]\n",
    "\n",
    "y_train = y[:split_index]\n",
    "y_test = y[split_index:]\n",
    "X_train.shape, X_test.shape, y_train.shape, y_test.shape"
   ]
  },
  {
   "cell_type": "code",
   "execution_count": 21,
   "metadata": {},
   "outputs": [
    {
     "data": {
      "text/plain": [
       "((6183, 7, 1), (326, 7, 1), (6183, 1), (326, 1))"
      ]
     },
     "execution_count": 21,
     "metadata": {},
     "output_type": "execute_result"
    }
   ],
   "source": [
    "# Reshape the training and testing sets to fit LSTM model input requirements\n",
    "\n",
    "X_train = X_train.reshape((-1, look_back,1))\n",
    "X_test = X_test.reshape((-1, look_back, 1))\n",
    "\n",
    "y_train = y_train.reshape((-1,1))\n",
    "y_test = y_test.reshape((-1,1))\n",
    "X_train.shape, X_test.shape, y_train.shape, y_test.shape"
   ]
  },
  {
   "cell_type": "code",
   "execution_count": 22,
   "metadata": {},
   "outputs": [],
   "source": [
    "# Convert NumPy arrays to PyTorch tensors and cast to float type\n",
    "X_train = torch.tensor(X_train).float()\n",
    "X_test = torch.tensor(X_test).float()\n",
    "y_train = torch.tensor(y_train).float()\n",
    "y_test = torch.tensor(y_test).float()"
   ]
  },
  {
   "cell_type": "code",
   "execution_count": 23,
   "metadata": {},
   "outputs": [
    {
     "data": {
      "text/plain": [
       "(torch.Size([6183, 7, 1]),\n",
       " torch.Size([326, 7, 1]),\n",
       " torch.Size([6183, 1]),\n",
       " torch.Size([326, 1]))"
      ]
     },
     "execution_count": 23,
     "metadata": {},
     "output_type": "execute_result"
    }
   ],
   "source": [
    "X_train.shape, X_test.shape, y_train.shape, y_test.shape"
   ]
  },
  {
   "cell_type": "code",
   "execution_count": 24,
   "metadata": {},
   "outputs": [],
   "source": [
    "from torch.utils.data import Dataset\n",
    "from torch.utils.data import DataLoader\n",
    "\n",
    "#Custom PyTorch dataset for time series data.\n",
    "\n",
    "class TimeSeriesData(Dataset):\n",
    "    #Initialize the dataset with features (X) and targets (y).\n",
    "\n",
    "    def __init__(self, X,y):\n",
    "        self.X = X\n",
    "        self.y = y\n",
    "    \n",
    "    def __len__(self):\n",
    "        #Return the number of samples in the dataset.\n",
    "\n",
    "        return len(self.X)\n",
    "    \n",
    "    def __getitem__(self, index):\n",
    "        # Retrieve a sample from the dataset by index.\n",
    "\n",
    "        return self.X[index], self.y[index]\n",
    "\n",
    "train_dataset = TimeSeriesData(X_train, y_train)\n",
    "test_dataset = TimeSeriesData(X_test, y_test)\n",
    "\n",
    "\n",
    "batch_size = 16\n",
    "train_loader = DataLoader(train_dataset, batch_size=batch_size, shuffle=True)\n",
    "test_loader = DataLoader(test_dataset, batch_size=batch_size, shuffle=False)"
   ]
  },
  {
   "cell_type": "code",
   "execution_count": 25,
   "metadata": {},
   "outputs": [
    {
     "name": "stdout",
     "output_type": "stream",
     "text": [
      "torch.Size([16, 7, 1]) torch.Size([16, 1])\n"
     ]
    }
   ],
   "source": [
    "# Iterate through the training data loader and print the shapes of the first batch\n",
    "for _, batch in enumerate(train_loader):\n",
    "    x_batch, y_batch = batch[0], batch[1]\n",
    "    print(x_batch.shape, y_batch.shape)\n",
    "    break"
   ]
  },
  {
   "cell_type": "code",
   "execution_count": 26,
   "metadata": {},
   "outputs": [],
   "source": [
    "#    LSTM (Long Short-Term Memory) model for time series forecasting.\n",
    "class LSTM(nn.Module):\n",
    "    def __init__(self, input_size, hidden_size, num_stacked_layers):\n",
    "    #input_size -Number of expected features in the input x.\n",
    "    #hidden_size - Number of features in the hidden state h.\n",
    "    #num_stacked_layers - Number of LSTM layers stacked on top of each other.\n",
    "        super().__init__()\n",
    "        self.hidden_size = hidden_size\n",
    "        self.num_stacked_layers = num_stacked_layers\n",
    "        self.lstm = nn.LSTM(input_size, hidden_size, num_stacked_layers, batch_first=True)\n",
    "        self.fc = nn.Linear(hidden_size, 1)\n",
    "\n",
    "    def forward(self, x):\n",
    "        batch_size = x.size(0)\n",
    "        h0 = torch.zeros(self.num_stacked_layers, batch_size, self.hidden_size)\n",
    "        c0 = torch.zeros(self.num_stacked_layers, batch_size, self.hidden_size)\n",
    "        out, _ = self.lstm(x, (h0, c0))\n",
    "        out = self.fc(out[:, -1, :])\n",
    "        return out"
   ]
  },
  {
   "cell_type": "code",
   "execution_count": 27,
   "metadata": {},
   "outputs": [
    {
     "data": {
      "text/plain": [
       "LSTM(\n",
       "  (lstm): LSTM(1, 4, batch_first=True)\n",
       "  (fc): Linear(in_features=4, out_features=1, bias=True)\n",
       ")"
      ]
     },
     "execution_count": 27,
     "metadata": {},
     "output_type": "execute_result"
    }
   ],
   "source": [
    "# Instantiate an LSTM model for time series forecasting\n",
    "\n",
    "model = LSTM(input_size=1, hidden_size=4, num_stacked_layers=1)\n",
    "model"
   ]
  },
  {
   "cell_type": "code",
   "execution_count": 28,
   "metadata": {},
   "outputs": [],
   "source": [
    "# Function to perform one training epoch on the LSTM model.\n",
    "\n",
    "# It iterates through batches of data from the train_loader, computes the loss,\n",
    "# and updates the model parameters using backpropagation.\n",
    "\n",
    "# Prints average batch loss every 100 batches.\n",
    "def train_one_epoch():\n",
    "    model.train(True)\n",
    "    print(f'Epoch count: {epoch+1}')\n",
    "    running_loss = 0.0\n",
    "\n",
    "    for batch_index, batch in enumerate(train_loader):\n",
    "        x_batch, y_batch = batch[0], batch[1]\n",
    "\n",
    "        # Forward pass: compute predicted outputs by passing inputs to the model\n",
    "        output = model(x_batch)\n",
    "\n",
    "        # Calculate the batch loss\n",
    "        loss = loss_function(output, y_batch)\n",
    "\n",
    "        # Accumulate the total loss\n",
    "        running_loss += loss\n",
    "\n",
    "        # Zero gradients, perform a backward pass, and update the weights\n",
    "        optimizer.zero_grad()\n",
    "        loss.backward()\n",
    "        optimizer.step()\n",
    "\n",
    "       # Print average loss every 100 batches\n",
    "        if batch_index %100 ==99:\n",
    "            avg_loss_accross_batch = running_loss/100\n",
    "            print(f'Batch count: {batch_index+1}, Loss:{avg_loss_accross_batch}')\n",
    "            "
   ]
  },
  {
   "cell_type": "code",
   "execution_count": 29,
   "metadata": {},
   "outputs": [],
   "source": [
    "# Function to perform validation on the LSTM model for one epoch.\n",
    "\n",
    "# It iterates through batches of data from the train_loader, computes the validation loss,\n",
    "# and prints the average validation loss.\n",
    "def validate_one_epoch():\n",
    "     # Set the model in evaluation mode (no dropout or batch norm)\n",
    "    model.train(False)\n",
    "    running_loss = 0.0\n",
    "\n",
    "    for batch_index, batch in enumerate(train_loader):\n",
    "        x_batch, y_batch = batch[0], batch[1]\n",
    "\n",
    " # Disable gradient calculation for validation\n",
    "        with torch.no_grad():\n",
    " # Forward pass: compute predicted outputs by passing inputs to the model\n",
    "            output = model(x_batch)\n",
    "            loss = loss_function(output, y_batch)\n",
    "            # Accumulate the total loss\n",
    "            running_loss += loss.item()\n",
    "\n",
    "    # Calculate average validation loss across batches\n",
    "    avg_loss_accross_batch = running_loss/100\n",
    "    print(f'Validation Loss:{avg_loss_accross_batch}')\n",
    "            "
   ]
  },
  {
   "cell_type": "code",
   "execution_count": 30,
   "metadata": {},
   "outputs": [
    {
     "name": "stdout",
     "output_type": "stream",
     "text": [
      "Epoch count: 1\n",
      "Batch count: 100, Loss:0.9135465025901794\n",
      "Batch count: 200, Loss:1.1611227989196777\n",
      "Batch count: 300, Loss:1.2113717794418335\n",
      "Validation Loss:0.04339140833122656\n",
      "Epoch count: 2\n",
      "Batch count: 100, Loss:0.007962693460285664\n",
      "Batch count: 200, Loss:0.013550651259720325\n",
      "Batch count: 300, Loss:0.01754743792116642\n",
      "Validation Loss:0.015783162936277222\n",
      "Epoch count: 3\n",
      "Batch count: 100, Loss:0.004177567549049854\n",
      "Batch count: 200, Loss:0.007694961968809366\n",
      "Batch count: 300, Loss:0.01066492311656475\n",
      "Validation Loss:0.010753183764172718\n",
      "Epoch count: 4\n",
      "Batch count: 100, Loss:0.002639847109094262\n",
      "Batch count: 200, Loss:0.00520569970831275\n",
      "Batch count: 300, Loss:0.007071643602102995\n",
      "Validation Loss:0.006722947026719339\n",
      "Epoch count: 5\n",
      "Batch count: 100, Loss:0.0016947368858382106\n",
      "Batch count: 200, Loss:0.003106851829215884\n",
      "Batch count: 300, Loss:0.004180733114480972\n",
      "Validation Loss:0.0037638170621357857\n",
      "Epoch count: 6\n",
      "Batch count: 100, Loss:0.0009674197644926608\n",
      "Batch count: 200, Loss:0.0017370310379192233\n",
      "Batch count: 300, Loss:0.0023600745480507612\n",
      "Validation Loss:0.001973223494933336\n",
      "Epoch count: 7\n",
      "Batch count: 100, Loss:0.0005160907167010009\n",
      "Batch count: 200, Loss:0.0009074581321328878\n",
      "Batch count: 300, Loss:0.0012782384874299169\n",
      "Validation Loss:0.0011596901420307404\n",
      "Epoch count: 8\n",
      "Batch count: 100, Loss:0.0003453837998677045\n",
      "Batch count: 200, Loss:0.0005964861484244466\n",
      "Batch count: 300, Loss:0.0008215943817049265\n",
      "Validation Loss:0.0008820476738128491\n",
      "Epoch count: 9\n",
      "Batch count: 100, Loss:0.0002211366081610322\n",
      "Batch count: 200, Loss:0.0003981557965744287\n",
      "Batch count: 300, Loss:0.0006249479483813047\n",
      "Validation Loss:0.0008388890075593736\n",
      "Epoch count: 10\n",
      "Batch count: 100, Loss:0.0002491651684977114\n",
      "Batch count: 200, Loss:0.0004555143532343209\n",
      "Batch count: 300, Loss:0.0006606836686842144\n",
      "Validation Loss:0.0007925714056364086\n",
      "Epoch count: 11\n",
      "Batch count: 100, Loss:0.00020253306138329208\n",
      "Batch count: 200, Loss:0.000430313782999292\n",
      "Batch count: 300, Loss:0.0006060415180400014\n",
      "Validation Loss:0.0007659006993367257\n",
      "Epoch count: 12\n",
      "Batch count: 100, Loss:0.0001932681043399498\n",
      "Batch count: 200, Loss:0.00038388659595511854\n",
      "Batch count: 300, Loss:0.0005763574154116213\n",
      "Validation Loss:0.0007969154484453611\n",
      "Epoch count: 13\n",
      "Batch count: 100, Loss:0.00017929403111338615\n",
      "Batch count: 200, Loss:0.0003851415531244129\n",
      "Batch count: 300, Loss:0.0005732746794819832\n",
      "Validation Loss:0.0007320127692901224\n",
      "Epoch count: 14\n",
      "Batch count: 100, Loss:0.0002053420030279085\n",
      "Batch count: 200, Loss:0.0003658365167211741\n",
      "Batch count: 300, Loss:0.0005709653487429023\n",
      "Validation Loss:0.0007122612375587778\n",
      "Epoch count: 15\n",
      "Batch count: 100, Loss:0.00018391026242170483\n",
      "Batch count: 200, Loss:0.00036061450373381376\n",
      "Batch count: 300, Loss:0.0005531638162210584\n",
      "Validation Loss:0.0007000280541342363\n"
     ]
    }
   ],
   "source": [
    "learning_rate = 0.001\n",
    "epochs = 15\n",
    "loss_function = nn.MSELoss()\n",
    "optimizer = torch.optim.Adam(model.parameters(), lr= learning_rate)\n",
    "\n",
    "# Training loop over specified number of epochs\n",
    "for epoch in range(epochs):\n",
    " # Perform one epoch of training\n",
    "    train_one_epoch()\n",
    "# Perform validation after each training epoch\n",
    "    validate_one_epoch()"
   ]
  },
  {
   "cell_type": "code",
   "execution_count": 31,
   "metadata": {},
   "outputs": [],
   "source": [
    "# Use the trained LSTM model to predict values on the training data\n",
    "\n",
    "with torch.no_grad():\n",
    "    predicted_values = model(X_train).numpy()\n"
   ]
  },
  {
   "cell_type": "code",
   "execution_count": 32,
   "metadata": {},
   "outputs": [
    {
     "data": {
      "image/png": "[encoded data removed]",
      "text/plain": [
       "<Figure size 640x480 with 1 Axes>"
      ]
     },
     "metadata": {},
     "output_type": "display_data"
    }
   ],
   "source": [
    "# Plotting actual vs predicted values for the training data\n",
    "\n",
    "plt.plot(y_train, label = 'Acutal Close')\n",
    "plt.plot(predicted_values, label = 'Predicted Values')\n",
    "plt.xlabel(\"Days\")\n",
    "plt.ylabel('Close value')\n",
    "plt.legend()\n",
    "plt.show()"
   ]
  },
  {
   "cell_type": "code",
   "execution_count": 33,
   "metadata": {},
   "outputs": [
    {
     "data": {
      "text/plain": [
       "array([1.34768090e-01, 1.35501762e-01, 1.35557343e-01, ...,\n",
       "       1.70092929e+02, 1.69396196e+02, 1.70044740e+02])"
      ]
     },
     "execution_count": 33,
     "metadata": {},
     "output_type": "execute_result"
    }
   ],
   "source": [
    "# Flatten predicted values and transform back using the scaler\n",
    "train_prediction = predicted_values.flatten()\n",
    "# Create a zeros array with appropriate shape\n",
    "dummies = np.zeros((X_train.shape[0], look_back+1))\n",
    "# Assign flattened predicted values to the first column\n",
    "dummies[:,0] =train_prediction\n",
    "\n",
    "# Inverse transform using the scaler\n",
    "dummies = scalar.inverse_transform(dummies)\n",
    "\n",
    "# Extract transformed predicted values\n",
    "train_prediction = dummies[:,0]\n",
    "train_prediction"
   ]
  },
  {
   "cell_type": "code",
   "execution_count": 34,
   "metadata": {},
   "outputs": [
    {
     "data": {
      "text/plain": [
       "array([170.01749949, 167.07899763, 170.41700626, 171.03700377,\n",
       "       171.0684961 , 169.66949429, 170.66099675, 169.20100565,\n",
       "       168.64449858, 166.71699707, 170.40449492, 167.52200227,\n",
       "       164.35699578, 163.25399737, 162.55400179, 161.48599177,\n",
       "       165.36199892, 165.20699954, 161.21400501, 162.13799851,\n",
       "       158.91749416, 156.29899568, 151.66749509, 142.64300408,\n",
       "       144.54400445, 139.98599336, 138.87249844, 139.63749627,\n",
       "       143.97799855, 149.57350001, 151.19349835, 150.61250219,\n",
       "       138.84550541, 157.63949825, 157.93550165, 161.41349717,\n",
       "       161.18949925, 159.003495  , 153.29350176, 155.1670061 ,\n",
       "       156.51049894, 158.10049453, 154.6524962 , 152.60149876,\n",
       "       150.19749381, 144.82699629, 151.35800212, 153.78849709,\n",
       "       153.56300403, 151.14199678, 152.05250627, 147.89849848,\n",
       "       145.64100565, 137.45300383, 136.01449488, 139.27900567,\n",
       "       146.81750468, 145.52450739, 141.8529947 , 147.36650272,\n",
       "       153.10400311, 157.23899657, 161.25050521, 161.49149987,\n",
       "       164.8890082 , 163.4080074 , 163.64950785, 164.77349929,\n",
       "       168.99049174, 169.31500275, 166.30099379, 162.99749555,\n",
       "       163.55999984, 168.34649425, 164.05499516, 158.75599734,\n",
       "       157.78449856, 154.4604964 , 151.1219931 , 150.78750525,\n",
       "       155.54100108, 151.70649644, 152.78500575, 158.11549591,\n",
       "       153.99799942, 148.29600432, 144.35000372, 146.07400567,\n",
       "       139.39100462, 138.16700588, 144.59649537, 124.2815027 ,\n",
       "       124.50000086, 124.25350088, 125.92849685, 116.40699847,\n",
       "       114.77249899, 108.78900163, 108.85900063, 105.37200234,\n",
       "       106.93049589, 113.05500005, 110.81050072, 115.36850069,\n",
       "       107.11250358, 107.31900035, 107.59100239, 107.55699918,\n",
       "       104.09999809, 106.77500184, 111.07749906, 115.14649953,\n",
       "       120.20950223, 121.68399725, 125.51100121, 122.34999935,\n",
       "       124.79000149, 122.99999961, 121.18000054, 116.15000198,\n",
       "       109.65000214, 103.66999806, 102.30999829, 107.6699986 ,\n",
       "       103.66000386, 106.22000101, 108.67999989, 108.94999683,\n",
       "       112.44000207, 116.45999935, 113.22000127, 107.40000166,\n",
       "       108.91999825, 106.20999917, 109.55999806, 113.50000006,\n",
       "       114.33000152, 116.3300018 , 115.54000075, 111.74999999,\n",
       "       109.22000073, 110.40000137, 110.62999651, 113.55000232,\n",
       "       113.76000211, 118.20999802, 122.76999614, 124.62999702,\n",
       "       122.41999835, 121.13999873, 114.80999825, 120.97000076,\n",
       "       122.28000035, 134.94999758, 135.38999806, 134.16000488,\n",
       "       139.5200031 , 142.57000925, 140.80000272, 139.41000507,\n",
       "       137.83000298, 142.69000357, 140.64000103, 143.55000084,\n",
       "       143.17999102, 144.7799968 , 142.10000324, 142.30000119,\n",
       "       138.22999608, 133.22000121, 133.61999431, 133.80000247,\n",
       "       137.27999891, 130.7499991 , 129.78999174, 128.72999653,\n",
       "       126.76999668, 127.82000117, 127.51000241, 126.11000014,\n",
       "       129.47999576, 129.82000839, 133.27000486, 136.44999605,\n",
       "       126.82000034, 128.55000227, 126.27999811, 123.52999999,\n",
       "       124.66000532, 122.19000322, 118.54000046, 117.30999894,\n",
       "       113.77999884, 115.15000254, 114.41000376, 118.01000286,\n",
       "       114.80000336, 112.99999964, 115.8799967 , 121.08999508,\n",
       "       120.94999707, 120.30000237, 114.55999805, 113.66999803,\n",
       "       112.2099986 , 112.90000206, 112.5299992 , 106.90000263,\n",
       "       113.79000069, 116.36000038, 115.0700003 , 115.25000012,\n",
       "       119.31999967, 119.82000008, 120.59999928, 115.66000341,\n",
       "       110.95999895, 103.41000365, 102.4400021 ,  96.79000116,\n",
       "        92.12000301,  89.30000302,  90.98000304,  90.52999899,\n",
       "        89.98000291,  86.13999884,  96.62999704, 100.79000101,\n",
       "        98.48999791,  98.94000197,  97.1200029 ,  94.84999805,\n",
       "        94.13999897,  92.45999904,  93.199997  ,  94.12999696,\n",
       "        93.410004  ,  93.94999701,  92.41999801,  96.54000095,\n",
       "        95.50000004,  94.12999696,  91.01000197,  88.24999993,\n",
       "        88.45999902,  90.34999813,  89.08999594,  90.55000302,\n",
       "        92.48999797,  91.58000208,  88.44999683,  87.86000102,\n",
       "        84.91999777,  85.19000167,  86.76999681,  83.79000078,\n",
       "        85.25000022,  83.04000085,  81.81999979,  84.17999969,\n",
       "        83.99999987,  85.82000033,  85.13999871,  83.12000309,\n",
       "        86.08000168,  87.3600013 ,  89.87000314,  95.08999606,\n",
       "        95.26999692,  98.12000304,  96.05000307,  95.45999893,\n",
       "        93.68      ,  97.25000011,  97.51999705,  96.32000002,\n",
       "        97.18000006,  99.22000076, 102.2399979 , 100.55000334,\n",
       "       103.12999722, 105.15000257, 112.9100039 , 103.38999927,\n",
       "       102.18000005, 102.11000105, 100.05000292,  98.23999805,\n",
       "        97.61000113,  99.54000066,  99.69999679, 101.16000387,\n",
       "        98.15000197,  97.19999715,  94.58000197,  95.79000102,\n",
       "        95.81999995,  93.5       ,  93.760002  ,  94.23000296,\n",
       "        92.16999798,  92.12999703,  94.90000205,  93.74999998,\n",
       "        93.55000299,  93.919998  ,  92.25000004,  90.73000301,\n",
       "        92.43000003,  94.87999697,  96.19999701, 100.04000108,\n",
       "        98.94999687,  97.70999906, 100.61000119,  98.69999701,\n",
       "        98.70999885,  98.12999689,  98.04000115,  97.23999792,\n",
       "       100.25000017, 102.00000023, 103.290001  , 102.41000421,\n",
       "       103.94999685, 101.09999768])"
      ]
     },
     "execution_count": 34,
     "metadata": {},
     "output_type": "execute_result"
    }
   ],
   "source": [
    "# Generate predictions on the test data and transform back using the scaler\n",
    "test_predictions = model(X_test).detach().numpy().flatten()\n",
    "dummies = np.zeros((X_test.shape[0], look_back+1))\n",
    "dummies[:, 0] = y_test.flatten()\n",
    "dummies = scalar.inverse_transform(dummies)\n",
    "test_predictions = dummies[:,0].copy()\n",
    "test_predictions\n"
   ]
  },
  {
   "cell_type": "code",
   "execution_count": 35,
   "metadata": {},
   "outputs": [
    {
     "name": "stdout",
     "output_type": "stream",
     "text": [
      "[170.01749949 167.07899763 170.41700626 171.03700377 171.0684961\n",
      " 169.66949429 170.66099675 169.20100565 168.64449858 166.71699707\n",
      " 170.40449492 167.52200227 164.35699578 163.25399737 162.55400179\n",
      " 161.48599177 165.36199892 165.20699954 161.21400501 162.13799851\n",
      " 158.91749416 156.29899568 151.66749509 142.64300408 144.54400445\n",
      " 139.98599336 138.87249844 139.63749627 143.97799855 149.57350001\n",
      " 151.19349835 150.61250219 138.84550541 157.63949825 157.93550165\n",
      " 161.41349717 161.18949925 159.003495   153.29350176 155.1670061\n",
      " 156.51049894 158.10049453 154.6524962  152.60149876 150.19749381\n",
      " 144.82699629 151.35800212 153.78849709 153.56300403 151.14199678\n",
      " 152.05250627 147.89849848 145.64100565 137.45300383 136.01449488\n",
      " 139.27900567 146.81750468 145.52450739 141.8529947  147.36650272\n",
      " 153.10400311 157.23899657 161.25050521 161.49149987 164.8890082\n",
      " 163.4080074  163.64950785 164.77349929 168.99049174 169.31500275\n",
      " 166.30099379 162.99749555 163.55999984 168.34649425 164.05499516\n",
      " 158.75599734 157.78449856 154.4604964  151.1219931  150.78750525\n",
      " 155.54100108 151.70649644 152.78500575 158.11549591 153.99799942\n",
      " 148.29600432 144.35000372 146.07400567 139.39100462 138.16700588\n",
      " 144.59649537 124.2815027  124.50000086 124.25350088 125.92849685\n",
      " 116.40699847 114.77249899 108.78900163 108.85900063 105.37200234\n",
      " 106.93049589 113.05500005 110.81050072 115.36850069 107.11250358\n",
      " 107.31900035 107.59100239 107.55699918 104.09999809 106.77500184\n",
      " 111.07749906 115.14649953 120.20950223 121.68399725 125.51100121\n",
      " 122.34999935 124.79000149 122.99999961 121.18000054 116.15000198\n",
      " 109.65000214 103.66999806 102.30999829 107.6699986  103.66000386\n",
      " 106.22000101 108.67999989 108.94999683 112.44000207 116.45999935\n",
      " 113.22000127 107.40000166 108.91999825 106.20999917 109.55999806\n",
      " 113.50000006 114.33000152 116.3300018  115.54000075 111.74999999\n",
      " 109.22000073 110.40000137 110.62999651 113.55000232 113.76000211\n",
      " 118.20999802 122.76999614 124.62999702 122.41999835 121.13999873\n",
      " 114.80999825 120.97000076 122.28000035 134.94999758 135.38999806\n",
      " 134.16000488 139.5200031  142.57000925 140.80000272 139.41000507\n",
      " 137.83000298 142.69000357 140.64000103 143.55000084 143.17999102\n",
      " 144.7799968  142.10000324 142.30000119 138.22999608 133.22000121\n",
      " 133.61999431 133.80000247 137.27999891 130.7499991  129.78999174\n",
      " 128.72999653 126.76999668 127.82000117 127.51000241 126.11000014\n",
      " 129.47999576 129.82000839 133.27000486 136.44999605 126.82000034\n",
      " 128.55000227 126.27999811 123.52999999 124.66000532 122.19000322\n",
      " 118.54000046 117.30999894 113.77999884 115.15000254 114.41000376\n",
      " 118.01000286 114.80000336 112.99999964 115.8799967  121.08999508\n",
      " 120.94999707 120.30000237 114.55999805 113.66999803 112.2099986\n",
      " 112.90000206 112.5299992  106.90000263 113.79000069 116.36000038\n",
      " 115.0700003  115.25000012 119.31999967 119.82000008 120.59999928\n",
      " 115.66000341 110.95999895 103.41000365 102.4400021   96.79000116\n",
      "  92.12000301  89.30000302  90.98000304  90.52999899  89.98000291\n",
      "  86.13999884  96.62999704 100.79000101  98.48999791  98.94000197\n",
      "  97.1200029   94.84999805  94.13999897  92.45999904  93.199997\n",
      "  94.12999696  93.410004    93.94999701  92.41999801  96.54000095\n",
      "  95.50000004  94.12999696  91.01000197  88.24999993  88.45999902\n",
      "  90.34999813  89.08999594  90.55000302  92.48999797  91.58000208\n",
      "  88.44999683  87.86000102  84.91999777  85.19000167  86.76999681\n",
      "  83.79000078  85.25000022  83.04000085  81.81999979  84.17999969\n",
      "  83.99999987  85.82000033  85.13999871  83.12000309  86.08000168\n",
      "  87.3600013   89.87000314  95.08999606  95.26999692  98.12000304\n",
      "  96.05000307  95.45999893  93.68        97.25000011  97.51999705\n",
      "  96.32000002  97.18000006  99.22000076 102.2399979  100.55000334\n",
      " 103.12999722 105.15000257 112.9100039  103.38999927 102.18000005\n",
      " 102.11000105 100.05000292  98.23999805  97.61000113  99.54000066\n",
      "  99.69999679 101.16000387  98.15000197  97.19999715  94.58000197\n",
      "  95.79000102  95.81999995  93.5         93.760002    94.23000296\n",
      "  92.16999798  92.12999703  94.90000205  93.74999998  93.55000299\n",
      "  93.919998    92.25000004  90.73000301  92.43000003  94.87999697\n",
      "  96.19999701 100.04000108  98.94999687  97.70999906 100.61000119\n",
      "  98.69999701  98.70999885  98.12999689  98.04000115  97.23999792\n",
      " 100.25000017 102.00000023 103.290001   102.41000421 103.94999685\n",
      " 101.09999768]\n"
     ]
    }
   ],
   "source": [
    "# Prepare new_y_test by inverse transforming y_test using the scaler\n",
    "# Create a zeros array with appropriate shape\n",
    "dummies = np.zeros((X_test.shape[0], look_back+1))\n",
    "# Assign flattened actual test values to the first column\n",
    "dummies[:, 0] = y_test.flatten()\n",
    " # Inverse transform using the scaler\n",
    "dummies = scalar.inverse_transform(dummies)\n",
    "# Extract and copy transformed values to new_y_test\n",
    "new_y_test = dummies[:,0].copy()\n",
    "print(new_y_test)"
   ]
  },
  {
   "cell_type": "code",
   "execution_count": 36,
   "metadata": {},
   "outputs": [
    {
     "data": {
      "image/png": "[encoded data removed]",
      "text/plain": [
       "<Figure size 640x480 with 1 Axes>"
      ]
     },
     "metadata": {},
     "output_type": "display_data"
    }
   ],
   "source": [
    "# Plotting actual vs predicted values for the test data\n",
    "\n",
    "# Plot actual close values\n",
    "plt.plot(new_y_test, label = 'Acutal Close')\n",
    "\n",
    " # Plot predicted values\n",
    "plt.plot(test_predictions, label = 'Predicted Values')\n",
    "plt.xlabel(\"Days\")\n",
    "plt.ylabel('Close value')\n",
    "plt.legend()\n",
    "plt.show()"
   ]
  }
 ],
 "metadata": {
  "kernelspec": {
   "display_name": "pytorch",
   "language": "python",
   "name": "python3"
  },
  "language_info": {
   "codemirror_mode": {
    "name": "ipython",
    "version": 3
   },
   "file_extension": ".py",
   "mimetype": "text/x-python",
   "name": "python",
   "nbconvert_exporter": "python",
   "pygments_lexer": "ipython3",
   "version": "3.10.4"
  }
 },
 "nbformat": 4,
 "nbformat_minor": 2
}
