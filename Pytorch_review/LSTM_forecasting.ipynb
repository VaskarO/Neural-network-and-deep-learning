{
 "cells": [
  {
   "cell_type": "code",
   "execution_count": 30,
   "metadata": {},
   "outputs": [],
   "source": [
    "import torch\n",
    "import torch.nn as nn\n",
    "import numpy as np\n",
    "import matplotlib.pyplot as plt\n",
    "import pandas as pd\n",
    "from sklearn.preprocessing import MinMaxScaler"
   ]
  },
  {
   "cell_type": "code",
   "execution_count": 2,
   "metadata": {},
   "outputs": [
    {
     "data": {
      "text/html": [
       "<div>\n",
       "<style scoped>\n",
       "    .dataframe tbody tr th:only-of-type {\n",
       "        vertical-align: middle;\n",
       "    }\n",
       "\n",
       "    .dataframe tbody tr th {\n",
       "        vertical-align: top;\n",
       "    }\n",
       "\n",
       "    .dataframe thead th {\n",
       "        text-align: right;\n",
       "    }\n",
       "</style>\n",
       "<table border=\"1\" class=\"dataframe\">\n",
       "  <thead>\n",
       "    <tr style=\"text-align: right;\">\n",
       "      <th></th>\n",
       "      <th>Date</th>\n",
       "      <th>Open</th>\n",
       "      <th>High</th>\n",
       "      <th>Low</th>\n",
       "      <th>Close</th>\n",
       "      <th>Adj Close</th>\n",
       "      <th>Volume</th>\n",
       "    </tr>\n",
       "  </thead>\n",
       "  <tbody>\n",
       "    <tr>\n",
       "      <th>0</th>\n",
       "      <td>1997-05-15</td>\n",
       "      <td>0.121875</td>\n",
       "      <td>0.125000</td>\n",
       "      <td>0.096354</td>\n",
       "      <td>0.097917</td>\n",
       "      <td>0.097917</td>\n",
       "      <td>1443120000</td>\n",
       "    </tr>\n",
       "    <tr>\n",
       "      <th>1</th>\n",
       "      <td>1997-05-16</td>\n",
       "      <td>0.098438</td>\n",
       "      <td>0.098958</td>\n",
       "      <td>0.085417</td>\n",
       "      <td>0.086458</td>\n",
       "      <td>0.086458</td>\n",
       "      <td>294000000</td>\n",
       "    </tr>\n",
       "    <tr>\n",
       "      <th>2</th>\n",
       "      <td>1997-05-19</td>\n",
       "      <td>0.088021</td>\n",
       "      <td>0.088542</td>\n",
       "      <td>0.081250</td>\n",
       "      <td>0.085417</td>\n",
       "      <td>0.085417</td>\n",
       "      <td>122136000</td>\n",
       "    </tr>\n",
       "    <tr>\n",
       "      <th>3</th>\n",
       "      <td>1997-05-20</td>\n",
       "      <td>0.086458</td>\n",
       "      <td>0.087500</td>\n",
       "      <td>0.081771</td>\n",
       "      <td>0.081771</td>\n",
       "      <td>0.081771</td>\n",
       "      <td>109344000</td>\n",
       "    </tr>\n",
       "    <tr>\n",
       "      <th>4</th>\n",
       "      <td>1997-05-21</td>\n",
       "      <td>0.081771</td>\n",
       "      <td>0.082292</td>\n",
       "      <td>0.068750</td>\n",
       "      <td>0.071354</td>\n",
       "      <td>0.071354</td>\n",
       "      <td>377064000</td>\n",
       "    </tr>\n",
       "  </tbody>\n",
       "</table>\n",
       "</div>"
      ],
      "text/plain": [
       "         Date      Open      High       Low     Close  Adj Close      Volume\n",
       "0  1997-05-15  0.121875  0.125000  0.096354  0.097917   0.097917  1443120000\n",
       "1  1997-05-16  0.098438  0.098958  0.085417  0.086458   0.086458   294000000\n",
       "2  1997-05-19  0.088021  0.088542  0.081250  0.085417   0.085417   122136000\n",
       "3  1997-05-20  0.086458  0.087500  0.081771  0.081771   0.081771   109344000\n",
       "4  1997-05-21  0.081771  0.082292  0.068750  0.071354   0.071354   377064000"
      ]
     },
     "execution_count": 2,
     "metadata": {},
     "output_type": "execute_result"
    }
   ],
   "source": [
    "dataset = pd.read_csv('./datasets/AMZN.csv')\n",
    "dataset.head()"
   ]
  },
  {
   "cell_type": "code",
   "execution_count": 4,
   "metadata": {},
   "outputs": [
    {
     "data": {
      "text/html": [
       "<div>\n",
       "<style scoped>\n",
       "    .dataframe tbody tr th:only-of-type {\n",
       "        vertical-align: middle;\n",
       "    }\n",
       "\n",
       "    .dataframe tbody tr th {\n",
       "        vertical-align: top;\n",
       "    }\n",
       "\n",
       "    .dataframe thead th {\n",
       "        text-align: right;\n",
       "    }\n",
       "</style>\n",
       "<table border=\"1\" class=\"dataframe\">\n",
       "  <thead>\n",
       "    <tr style=\"text-align: right;\">\n",
       "      <th></th>\n",
       "      <th>Date</th>\n",
       "      <th>Close</th>\n",
       "    </tr>\n",
       "  </thead>\n",
       "  <tbody>\n",
       "    <tr>\n",
       "      <th>0</th>\n",
       "      <td>1997-05-15</td>\n",
       "      <td>0.097917</td>\n",
       "    </tr>\n",
       "    <tr>\n",
       "      <th>1</th>\n",
       "      <td>1997-05-16</td>\n",
       "      <td>0.086458</td>\n",
       "    </tr>\n",
       "    <tr>\n",
       "      <th>2</th>\n",
       "      <td>1997-05-19</td>\n",
       "      <td>0.085417</td>\n",
       "    </tr>\n",
       "    <tr>\n",
       "      <th>3</th>\n",
       "      <td>1997-05-20</td>\n",
       "      <td>0.081771</td>\n",
       "    </tr>\n",
       "    <tr>\n",
       "      <th>4</th>\n",
       "      <td>1997-05-21</td>\n",
       "      <td>0.071354</td>\n",
       "    </tr>\n",
       "  </tbody>\n",
       "</table>\n",
       "</div>"
      ],
      "text/plain": [
       "         Date     Close\n",
       "0  1997-05-15  0.097917\n",
       "1  1997-05-16  0.086458\n",
       "2  1997-05-19  0.085417\n",
       "3  1997-05-20  0.081771\n",
       "4  1997-05-21  0.071354"
      ]
     },
     "execution_count": 4,
     "metadata": {},
     "output_type": "execute_result"
    }
   ],
   "source": [
    "dataset = dataset[['Date', 'Close']]\n",
    "dataset.head()"
   ]
  },
  {
   "cell_type": "code",
   "execution_count": 6,
   "metadata": {},
   "outputs": [
    {
     "data": {
      "text/plain": [
       "[<matplotlib.lines.Line2D at 0x19e65410b50>]"
      ]
     },
     "execution_count": 6,
     "metadata": {},
     "output_type": "execute_result"
    },
    {
     "data": {
      "image/png": "[encoded data removed]",
      "text/plain": [
       "<Figure size 640x480 with 1 Axes>"
      ]
     },
     "metadata": {},
     "output_type": "display_data"
    }
   ],
   "source": [
    "plt.plot(pd.to_datetime(dataset['Date']), dataset['Close'])"
   ]
  },
  {
   "cell_type": "code",
   "execution_count": 7,
   "metadata": {},
   "outputs": [
    {
     "data": {
      "text/html": [
       "<div>\n",
       "<style scoped>\n",
       "    .dataframe tbody tr th:only-of-type {\n",
       "        vertical-align: middle;\n",
       "    }\n",
       "\n",
       "    .dataframe tbody tr th {\n",
       "        vertical-align: top;\n",
       "    }\n",
       "\n",
       "    .dataframe thead th {\n",
       "        text-align: right;\n",
       "    }\n",
       "</style>\n",
       "<table border=\"1\" class=\"dataframe\">\n",
       "  <thead>\n",
       "    <tr style=\"text-align: right;\">\n",
       "      <th></th>\n",
       "      <th>Close</th>\n",
       "      <th>Close(t-1)</th>\n",
       "      <th>Close(t-2)</th>\n",
       "      <th>Close(t-3)</th>\n",
       "      <th>Close(t-4)</th>\n",
       "      <th>Close(t-5)</th>\n",
       "      <th>Close(t-6)</th>\n",
       "      <th>Close(t-7)</th>\n",
       "    </tr>\n",
       "    <tr>\n",
       "      <th>Date</th>\n",
       "      <th></th>\n",
       "      <th></th>\n",
       "      <th></th>\n",
       "      <th></th>\n",
       "      <th></th>\n",
       "      <th></th>\n",
       "      <th></th>\n",
       "      <th></th>\n",
       "    </tr>\n",
       "  </thead>\n",
       "  <tbody>\n",
       "    <tr>\n",
       "      <th>1997-05-27</th>\n",
       "      <td>0.079167</td>\n",
       "      <td>0.075000</td>\n",
       "      <td>0.069792</td>\n",
       "      <td>0.071354</td>\n",
       "      <td>0.081771</td>\n",
       "      <td>0.085417</td>\n",
       "      <td>0.086458</td>\n",
       "      <td>0.097917</td>\n",
       "    </tr>\n",
       "    <tr>\n",
       "      <th>1997-05-28</th>\n",
       "      <td>0.076563</td>\n",
       "      <td>0.079167</td>\n",
       "      <td>0.075000</td>\n",
       "      <td>0.069792</td>\n",
       "      <td>0.071354</td>\n",
       "      <td>0.081771</td>\n",
       "      <td>0.085417</td>\n",
       "      <td>0.086458</td>\n",
       "    </tr>\n",
       "    <tr>\n",
       "      <th>1997-05-29</th>\n",
       "      <td>0.075260</td>\n",
       "      <td>0.076563</td>\n",
       "      <td>0.079167</td>\n",
       "      <td>0.075000</td>\n",
       "      <td>0.069792</td>\n",
       "      <td>0.071354</td>\n",
       "      <td>0.081771</td>\n",
       "      <td>0.085417</td>\n",
       "    </tr>\n",
       "    <tr>\n",
       "      <th>1997-05-30</th>\n",
       "      <td>0.075000</td>\n",
       "      <td>0.075260</td>\n",
       "      <td>0.076563</td>\n",
       "      <td>0.079167</td>\n",
       "      <td>0.075000</td>\n",
       "      <td>0.069792</td>\n",
       "      <td>0.071354</td>\n",
       "      <td>0.081771</td>\n",
       "    </tr>\n",
       "    <tr>\n",
       "      <th>1997-06-02</th>\n",
       "      <td>0.075521</td>\n",
       "      <td>0.075000</td>\n",
       "      <td>0.075260</td>\n",
       "      <td>0.076563</td>\n",
       "      <td>0.079167</td>\n",
       "      <td>0.075000</td>\n",
       "      <td>0.069792</td>\n",
       "      <td>0.071354</td>\n",
       "    </tr>\n",
       "    <tr>\n",
       "      <th>...</th>\n",
       "      <td>...</td>\n",
       "      <td>...</td>\n",
       "      <td>...</td>\n",
       "      <td>...</td>\n",
       "      <td>...</td>\n",
       "      <td>...</td>\n",
       "      <td>...</td>\n",
       "      <td>...</td>\n",
       "    </tr>\n",
       "    <tr>\n",
       "      <th>2023-03-30</th>\n",
       "      <td>102.000000</td>\n",
       "      <td>100.250000</td>\n",
       "      <td>97.239998</td>\n",
       "      <td>98.040001</td>\n",
       "      <td>98.129997</td>\n",
       "      <td>98.709999</td>\n",
       "      <td>98.699997</td>\n",
       "      <td>100.610001</td>\n",
       "    </tr>\n",
       "    <tr>\n",
       "      <th>2023-03-31</th>\n",
       "      <td>103.290001</td>\n",
       "      <td>102.000000</td>\n",
       "      <td>100.250000</td>\n",
       "      <td>97.239998</td>\n",
       "      <td>98.040001</td>\n",
       "      <td>98.129997</td>\n",
       "      <td>98.709999</td>\n",
       "      <td>98.699997</td>\n",
       "    </tr>\n",
       "    <tr>\n",
       "      <th>2023-04-03</th>\n",
       "      <td>102.410004</td>\n",
       "      <td>103.290001</td>\n",
       "      <td>102.000000</td>\n",
       "      <td>100.250000</td>\n",
       "      <td>97.239998</td>\n",
       "      <td>98.040001</td>\n",
       "      <td>98.129997</td>\n",
       "      <td>98.709999</td>\n",
       "    </tr>\n",
       "    <tr>\n",
       "      <th>2023-04-04</th>\n",
       "      <td>103.949997</td>\n",
       "      <td>102.410004</td>\n",
       "      <td>103.290001</td>\n",
       "      <td>102.000000</td>\n",
       "      <td>100.250000</td>\n",
       "      <td>97.239998</td>\n",
       "      <td>98.040001</td>\n",
       "      <td>98.129997</td>\n",
       "    </tr>\n",
       "    <tr>\n",
       "      <th>2023-04-05</th>\n",
       "      <td>101.099998</td>\n",
       "      <td>103.949997</td>\n",
       "      <td>102.410004</td>\n",
       "      <td>103.290001</td>\n",
       "      <td>102.000000</td>\n",
       "      <td>100.250000</td>\n",
       "      <td>97.239998</td>\n",
       "      <td>98.040001</td>\n",
       "    </tr>\n",
       "  </tbody>\n",
       "</table>\n",
       "<p>6509 rows × 8 columns</p>\n",
       "</div>"
      ],
      "text/plain": [
       "                 Close  Close(t-1)  Close(t-2)  Close(t-3)  Close(t-4)  \\\n",
       "Date                                                                     \n",
       "1997-05-27    0.079167    0.075000    0.069792    0.071354    0.081771   \n",
       "1997-05-28    0.076563    0.079167    0.075000    0.069792    0.071354   \n",
       "1997-05-29    0.075260    0.076563    0.079167    0.075000    0.069792   \n",
       "1997-05-30    0.075000    0.075260    0.076563    0.079167    0.075000   \n",
       "1997-06-02    0.075521    0.075000    0.075260    0.076563    0.079167   \n",
       "...                ...         ...         ...         ...         ...   \n",
       "2023-03-30  102.000000  100.250000   97.239998   98.040001   98.129997   \n",
       "2023-03-31  103.290001  102.000000  100.250000   97.239998   98.040001   \n",
       "2023-04-03  102.410004  103.290001  102.000000  100.250000   97.239998   \n",
       "2023-04-04  103.949997  102.410004  103.290001  102.000000  100.250000   \n",
       "2023-04-05  101.099998  103.949997  102.410004  103.290001  102.000000   \n",
       "\n",
       "            Close(t-5)  Close(t-6)  Close(t-7)  \n",
       "Date                                            \n",
       "1997-05-27    0.085417    0.086458    0.097917  \n",
       "1997-05-28    0.081771    0.085417    0.086458  \n",
       "1997-05-29    0.071354    0.081771    0.085417  \n",
       "1997-05-30    0.069792    0.071354    0.081771  \n",
       "1997-06-02    0.075000    0.069792    0.071354  \n",
       "...                ...         ...         ...  \n",
       "2023-03-30   98.709999   98.699997  100.610001  \n",
       "2023-03-31   98.129997   98.709999   98.699997  \n",
       "2023-04-03   98.040001   98.129997   98.709999  \n",
       "2023-04-04   97.239998   98.040001   98.129997  \n",
       "2023-04-05  100.250000   97.239998   98.040001  \n",
       "\n",
       "[6509 rows x 8 columns]"
      ]
     },
     "execution_count": 7,
     "metadata": {},
     "output_type": "execute_result"
    }
   ],
   "source": [
    "def prepare_dataset(dataset, n_steps):\n",
    "    dataset.set_index('Date', inplace=True)\n",
    "    for i in range(1, n_steps+1):\n",
    "        dataset[f\"Close(t-{i})\"] = dataset['Close'].shift(i)\n",
    "\n",
    "    dataset.dropna(inplace=True)\n",
    "    return dataset\n",
    "\n",
    "look_back = 7\n",
    "shifted_df = prepare_dataset(dataset, look_back)\n",
    "shifted_df"
   ]
  },
  {
   "cell_type": "code",
   "execution_count": 10,
   "metadata": {},
   "outputs": [
    {
     "data": {
      "text/plain": [
       "array([[-0.99991063, -0.99995531, -1.        , -0.99998325, -0.99987154,\n",
       "        -0.99983244, -0.99982128, -0.99969839],\n",
       "       [-0.99993855, -0.99991063, -0.99994415, -1.        , -0.99998325,\n",
       "        -0.99987154, -0.99983244, -0.99982128],\n",
       "       [-0.99995253, -0.99993855, -0.99989946, -0.99994415, -1.        ,\n",
       "        -0.99998325, -0.99987154, -0.99983244],\n",
       "       [-0.99995531, -0.99995253, -0.99992739, -0.99989946, -0.99994415,\n",
       "        -1.        , -0.99998325, -0.99987154],\n",
       "       [-0.99994973, -0.99995531, -0.99994136, -0.99992739, -0.99989946,\n",
       "        -0.99994415, -1.        , -0.99998325]])"
      ]
     },
     "execution_count": 10,
     "metadata": {},
     "output_type": "execute_result"
    }
   ],
   "source": [
    "shifted_df_numpy = shifted_df.to_numpy()\n",
    "\n",
    "scalar = MinMaxScaler(feature_range=(-1,1))\n",
    "shifted_df_numpy = scalar.fit_transform((shifted_df_numpy))\n",
    "\n",
    "shifted_df_numpy[:5]"
   ]
  },
  {
   "cell_type": "code",
   "execution_count": 12,
   "metadata": {},
   "outputs": [
    {
     "name": "stdout",
     "output_type": "stream",
     "text": [
      "[-0.99991063 -0.99994415 -1.         -0.99998325 -0.99987154 -0.99983244\n",
      " -0.99982128] -0.999938552167786\n",
      "(6509, 7) (6509,)\n"
     ]
    }
   ],
   "source": [
    "X = shifted_df_numpy[:, 1:]\n",
    "y = shifted_df_numpy[:, 0]\n",
    "print(X[1] , y[1])\n",
    "print(X.shape, y.shape)"
   ]
  },
  {
   "cell_type": "code",
   "execution_count": 13,
   "metadata": {},
   "outputs": [
    {
     "data": {
      "text/plain": [
       "array([[-0.99969839, -0.99982128, -0.99983244, ..., -0.99998325,\n",
       "        -1.        , -0.99995531],\n",
       "       [-0.99982128, -0.99983244, -0.99987154, ..., -1.        ,\n",
       "        -0.99994415, -0.99991063],\n",
       "       [-0.99983244, -0.99987154, -0.99998325, ..., -0.99994415,\n",
       "        -0.99989946, -0.99993855],\n",
       "       ...,\n",
       "       [ 0.05779984,  0.05158   ,  0.0506149 , ...,  0.07431453,\n",
       "         0.09308121,  0.10690997],\n",
       "       [ 0.05158   ,  0.0506149 ,  0.04203581, ...,  0.09308121,\n",
       "         0.10691495,  0.09747299],\n",
       "       [ 0.0506149 ,  0.04203581,  0.07431453, ...,  0.10691495,\n",
       "         0.09747802,  0.11398769]])"
      ]
     },
     "execution_count": 13,
     "metadata": {},
     "output_type": "execute_result"
    }
   ],
   "source": [
    "X = np.flip(X, axis = 1)\n",
    "X"
   ]
  },
  {
   "cell_type": "code",
   "execution_count": 14,
   "metadata": {},
   "outputs": [
    {
     "data": {
      "text/plain": [
       "6183"
      ]
     },
     "execution_count": 14,
     "metadata": {},
     "output_type": "execute_result"
    }
   ],
   "source": [
    "split_index = int(len(X)*0.95)\n",
    "split_index"
   ]
  },
  {
   "cell_type": "code",
   "execution_count": 18,
   "metadata": {},
   "outputs": [
    {
     "data": {
      "text/plain": [
       "((6183, 7), (326, 7), (6183,), (326,))"
      ]
     },
     "execution_count": 18,
     "metadata": {},
     "output_type": "execute_result"
    }
   ],
   "source": [
    "X_train = X[:split_index]\n",
    "X_test = X[split_index:]\n",
    "\n",
    "y_train = y[:split_index]\n",
    "y_test = y[split_index:]\n",
    "X_train.shape, X_test.shape, y_train.shape, y_test.shape"
   ]
  },
  {
   "cell_type": "code",
   "execution_count": 19,
   "metadata": {},
   "outputs": [
    {
     "data": {
      "text/plain": [
       "((6183, 7, 1), (326, 7, 1), (6183, 1), (326, 1))"
      ]
     },
     "execution_count": 19,
     "metadata": {},
     "output_type": "execute_result"
    }
   ],
   "source": [
    "X_train = X_train.reshape((-1, look_back,1))\n",
    "X_test = X_test.reshape((-1, look_back, 1))\n",
    "\n",
    "y_train = y_train.reshape((-1,1))\n",
    "y_test = y_test.reshape((-1,1))\n",
    "X_train.shape, X_test.shape, y_train.shape, y_test.shape"
   ]
  },
  {
   "cell_type": "code",
   "execution_count": 28,
   "metadata": {},
   "outputs": [
    {
     "name": "stderr",
     "output_type": "stream",
     "text": [
      "C:\\Users\\hp\\AppData\\Local\\Temp\\ipykernel_3324\\2122207645.py:1: UserWarning: To copy construct from a tensor, it is recommended to use sourceTensor.clone().detach() or sourceTensor.clone().detach().requires_grad_(True), rather than torch.tensor(sourceTensor).\n",
      "  X_train = torch.tensor(X_train).float()\n",
      "C:\\Users\\hp\\AppData\\Local\\Temp\\ipykernel_3324\\2122207645.py:2: UserWarning: To copy construct from a tensor, it is recommended to use sourceTensor.clone().detach() or sourceTensor.clone().detach().requires_grad_(True), rather than torch.tensor(sourceTensor).\n",
      "  X_test = torch.tensor(X_test).float()\n",
      "C:\\Users\\hp\\AppData\\Local\\Temp\\ipykernel_3324\\2122207645.py:3: UserWarning: To copy construct from a tensor, it is recommended to use sourceTensor.clone().detach() or sourceTensor.clone().detach().requires_grad_(True), rather than torch.tensor(sourceTensor).\n",
      "  y_train = torch.tensor(y_train).float()\n",
      "C:\\Users\\hp\\AppData\\Local\\Temp\\ipykernel_3324\\2122207645.py:4: UserWarning: To copy construct from a tensor, it is recommended to use sourceTensor.clone().detach() or sourceTensor.clone().detach().requires_grad_(True), rather than torch.tensor(sourceTensor).\n",
      "  y_test = torch.tensor(y_test).float()\n"
     ]
    }
   ],
   "source": [
    "X_train = torch.tensor(X_train).float()\n",
    "X_test = torch.tensor(X_test).float()\n",
    "y_train = torch.tensor(y_train).float()\n",
    "y_test = torch.tensor(y_test).float()"
   ]
  },
  {
   "cell_type": "code",
   "execution_count": 29,
   "metadata": {},
   "outputs": [
    {
     "data": {
      "text/plain": [
       "(torch.Size([6183, 7, 1]),\n",
       " torch.Size([326, 7, 1]),\n",
       " torch.Size([6183, 1]),\n",
       " torch.Size([326, 1]))"
      ]
     },
     "execution_count": 29,
     "metadata": {},
     "output_type": "execute_result"
    }
   ],
   "source": [
    "X_train.shape, X_test.shape, y_train.shape, y_test.shape"
   ]
  },
  {
   "cell_type": "code",
   "execution_count": 32,
   "metadata": {},
   "outputs": [],
   "source": [
    "from torch.utils.data import Dataset\n",
    "from torch.utils.data import DataLoader\n",
    "\n",
    "class TimeSeriesData(Dataset):\n",
    "    def __init__(self, X,y):\n",
    "        self.X = X\n",
    "        self.y = y\n",
    "    \n",
    "    def __len__(self):\n",
    "        return len(self.X)\n",
    "    \n",
    "    def __getitem__(self, index):\n",
    "        return self.X[index], self.y[index]\n",
    "\n",
    "train_dataset = TimeSeriesData(X_train, y_train)\n",
    "test_dataset = TimeSeriesData(X_test, y_test)\n",
    "\n",
    "batch_size = 16\n",
    "train_loader = DataLoader(train_dataset, batch_size=batch_size, shuffle=True)\n",
    "test_loader = DataLoader(test_dataset, batch_size=batch_size, shuffle=False)"
   ]
  },
  {
   "cell_type": "code",
   "execution_count": 33,
   "metadata": {},
   "outputs": [
    {
     "name": "stdout",
     "output_type": "stream",
     "text": [
      "torch.Size([16, 7, 1]) torch.Size([16, 1])\n"
     ]
    }
   ],
   "source": [
    "for _, batch in enumerate(train_loader):\n",
    "    x_batch, y_batch = batch[0], batch[1]\n",
    "    print(x_batch.shape, y_batch.shape)\n",
    "    break"
   ]
  },
  {
   "cell_type": "code",
   "execution_count": null,
   "metadata": {},
   "outputs": [],
   "source": []
  }
 ],
 "metadata": {
  "kernelspec": {
   "display_name": "pytorch",
   "language": "python",
   "name": "python3"
  },
  "language_info": {
   "codemirror_mode": {
    "name": "ipython",
    "version": 3
   },
   "file_extension": ".py",
   "mimetype": "text/x-python",
   "name": "python",
   "nbconvert_exporter": "python",
   "pygments_lexer": "ipython3",
   "version": "3.10.4"
  }
 },
 "nbformat": 4,
 "nbformat_minor": 2
}
