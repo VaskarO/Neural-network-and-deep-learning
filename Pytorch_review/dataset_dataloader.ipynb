{
 "cells": [
  {
   "cell_type": "code",
   "execution_count": 11,
   "metadata": {},
   "outputs": [],
   "source": [
    "import numpy as np\n",
    "import torch\n",
    "from torch.utils.data import Dataset, DataLoader\n",
    "import pandas as pd"
   ]
  },
  {
   "cell_type": "code",
   "execution_count": 12,
   "metadata": {},
   "outputs": [],
   "source": [
    "# data = pd.read_csv('./datasets/weather.csv', header=None)\n",
    "# data = data.to_numpy()\n",
    "# X = data[1:, 1:-1].astype(float)\n",
    "# y = data[1:,-1 ].astype(float)\n",
    "# data.head()"
   ]
  },
  {
   "cell_type": "code",
   "execution_count": 15,
   "metadata": {},
   "outputs": [],
   "source": [
    "class WeatherDataset(Dataset):\n",
    "\n",
    "    # Loading dataset from local system\n",
    "    def __init__(self):\n",
    "        data = pd.read_csv('./datasets/weather.csv', header=None)\n",
    "        data = data.to_numpy()\n",
    "        X = data[1:, 1:-1].astype(float)\n",
    "        self.X = torch.from_numpy(X)\n",
    "\n",
    "        y = data[1:,-1 ].astype(float)      \n",
    "        self.y = torch.from_numpy(y)  \n",
    "\n",
    "    def __getitem__(self, index):\n",
    "        return self.X[index], self.y[index]\n",
    "    \n",
    "    def __len__(self):\n",
    "        return self.X.shape[0]"
   ]
  },
  {
   "cell_type": "code",
   "execution_count": 16,
   "metadata": {},
   "outputs": [],
   "source": [
    "weather_dataset = WeatherDataset()"
   ]
  },
  {
   "cell_type": "code",
   "execution_count": 17,
   "metadata": {},
   "outputs": [],
   "source": [
    "first_data = weather_dataset.__getitem__(1)"
   ]
  },
  {
   "cell_type": "code",
   "execution_count": 18,
   "metadata": {},
   "outputs": [],
   "source": [
    "first_data_1 = weather_dataset[1]"
   ]
  },
  {
   "cell_type": "code",
   "execution_count": 19,
   "metadata": {},
   "outputs": [
    {
     "name": "stdout",
     "output_type": "stream",
     "text": [
      "tensor([52., 39.,  0.], dtype=torch.float64) tensor(52., dtype=torch.float64)\n"
     ]
    }
   ],
   "source": [
    "features, label = first_data\n",
    "print(features, label)"
   ]
  },
  {
   "cell_type": "code",
   "execution_count": 35,
   "metadata": {},
   "outputs": [],
   "source": [
    "#dataloader concept\n",
    "dataloader = DataLoader(dataset =weather_dataset,batch_size=4, shuffle=True )"
   ]
  },
  {
   "cell_type": "code",
   "execution_count": 36,
   "metadata": {},
   "outputs": [
    {
     "data": {
      "text/plain": [
       "<torch.utils.data.dataloader.DataLoader at 0x24324f3e3b0>"
      ]
     },
     "execution_count": 36,
     "metadata": {},
     "output_type": "execute_result"
    }
   ],
   "source": [
    "dataloader"
   ]
  },
  {
   "cell_type": "code",
   "execution_count": 37,
   "metadata": {},
   "outputs": [
    {
     "data": {
      "text/plain": [
       "[tensor([[57., 42.,  0.],\n",
       "         [69., 57.,  0.],\n",
       "         [64., 52.,  0.],\n",
       "         [75., 60.,  0.]], dtype=torch.float64),\n",
       " tensor([57., 67., 64., 85.], dtype=torch.float64)]"
      ]
     },
     "execution_count": 37,
     "metadata": {},
     "output_type": "execute_result"
    }
   ],
   "source": [
    "iter_dataloader = iter(dataloader)\n",
    "data = next(iter_dataloader)\n",
    "data"
   ]
  },
  {
   "cell_type": "code",
   "execution_count": 39,
   "metadata": {},
   "outputs": [
    {
     "name": "stdout",
     "output_type": "stream",
     "text": [
      "tensor([[57., 42.,  0.],\n",
      "        [69., 57.,  0.],\n",
      "        [64., 52.,  0.],\n",
      "        [75., 60.,  0.]], dtype=torch.float64)\n",
      "tensor([57., 67., 64., 85.], dtype=torch.float64)\n"
     ]
    }
   ],
   "source": [
    "features, labels = data\n",
    "print(features)\n",
    "print(labels)"
   ]
  }
 ],
 "metadata": {
  "kernelspec": {
   "display_name": "pytorch",
   "language": "python",
   "name": "python3"
  },
  "language_info": {
   "codemirror_mode": {
    "name": "ipython",
    "version": 3
   },
   "file_extension": ".py",
   "mimetype": "text/x-python",
   "name": "python",
   "nbconvert_exporter": "python",
   "pygments_lexer": "ipython3",
   "version": "3.10.4"
  }
 },
 "nbformat": 4,
 "nbformat_minor": 2
}
