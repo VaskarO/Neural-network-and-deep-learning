{
 "cells": [
  {
   "cell_type": "code",
   "execution_count": 1,
   "metadata": {},
   "outputs": [],
   "source": [
    "#importing modules\n",
    "import torch\n",
    "import torch.nn as nn\n",
    "from sklearn import datasets\n",
    "from sklearn.preprocessing import StandardScaler\n",
    "from sklearn.model_selection import train_test_split\n",
    "import numpy as np"
   ]
  },
  {
   "cell_type": "code",
   "execution_count": 3,
   "metadata": {},
   "outputs": [],
   "source": [
    "#features and label \n",
    "df = datasets.load_breast_cancer()\n",
    "X,y = df.data, df.target"
   ]
  },
  {
   "cell_type": "code",
   "execution_count": 7,
   "metadata": {},
   "outputs": [],
   "source": [
    "#spliting data set into training set and testing set \n",
    "n_samples, n_features = X.shape\n",
    "X_train, X_test, y_train, y_test = train_test_split(X,y, test_size=0.3, random_state=2)"
   ]
  },
  {
   "cell_type": "code",
   "execution_count": 8,
   "metadata": {},
   "outputs": [],
   "source": [
    "#feature scaling\n",
    "feature_scale = StandardScaler()\n",
    "X_train = feature_scale.fit_transform(X_train)\n",
    "X_test = feature_scale.transform(X_test)"
   ]
  },
  {
   "cell_type": "code",
   "execution_count": 9,
   "metadata": {},
   "outputs": [],
   "source": [
    "#converting the data into torch tensor from numpy array\n",
    "X_train= torch.from_numpy(X_train.astype(np.float32))\n",
    "X_test= torch.from_numpy(X_test.astype(np.float32))\n",
    "y_train = torch.from_numpy(y_train.astype(np.float32))\n",
    "y_test = torch.from_numpy(y_test.astype(np.float32))\n",
    "\n",
    "#converting row matrix into column\n",
    "y_train = y_train.view(y_train.shape[0], 1)"
   ]
  },
  {
   "cell_type": "code",
   "execution_count": 12,
   "metadata": {},
   "outputs": [],
   "source": [
    "#model creation\n",
    "class LogisticRegression(nn.Module):\n",
    "    def __init__(self, n_input_features):\n",
    "        super(LogisticRegression, self).__init__()\n",
    "        self.linear = nn.Linear(n_input_features,1)\n",
    "    \n",
    "    def forward(self, x):\n",
    "        y_predicted = torch.sigmoid(self.linear(x))\n",
    "        return y_predicted\n",
    "\n",
    "model = LogisticRegression(n_features)\n"
   ]
  },
  {
   "cell_type": "code",
   "execution_count": 14,
   "metadata": {},
   "outputs": [],
   "source": [
    "# loss and optimizer\n",
    "learning_rate = 0.01\n",
    "loss = nn.BCELoss()\n",
    "optimizer = torch.optim.SGD(model.parameters(), lr= learning_rate)"
   ]
  },
  {
   "cell_type": "code",
   "execution_count": 26,
   "metadata": {},
   "outputs": [
    {
     "name": "stdout",
     "output_type": "stream",
     "text": [
      "Epoch count: 10, loss = 0.0898\n",
      "Epoch count: 20, loss = 0.0897\n",
      "Epoch count: 30, loss = 0.0895\n",
      "Epoch count: 40, loss = 0.0894\n",
      "Epoch count: 50, loss = 0.0892\n",
      "Epoch count: 60, loss = 0.0890\n",
      "Epoch count: 70, loss = 0.0889\n",
      "Epoch count: 80, loss = 0.0887\n",
      "Epoch count: 90, loss = 0.0886\n",
      "Epoch count: 100, loss = 0.0884\n",
      "Epoch count: 110, loss = 0.0883\n",
      "Epoch count: 120, loss = 0.0881\n",
      "Epoch count: 130, loss = 0.0880\n",
      "Epoch count: 140, loss = 0.0878\n",
      "Epoch count: 150, loss = 0.0877\n",
      "Epoch count: 160, loss = 0.0876\n",
      "Epoch count: 170, loss = 0.0874\n",
      "Epoch count: 180, loss = 0.0873\n",
      "Epoch count: 190, loss = 0.0871\n",
      "Epoch count: 200, loss = 0.0870\n",
      "Epoch count: 210, loss = 0.0869\n",
      "Epoch count: 220, loss = 0.0867\n",
      "Epoch count: 230, loss = 0.0866\n",
      "Epoch count: 240, loss = 0.0865\n",
      "Epoch count: 250, loss = 0.0863\n",
      "Accuracy score: 89.5029\n"
     ]
    }
   ],
   "source": [
    "#training the model\n",
    "epochs = 250\n",
    "for epoch in range(epochs):\n",
    "    #forward pass and loss calculation\n",
    "    y_predict = model(X_train)\n",
    "    loss_value = loss(y_predict,y_train)\n",
    "    #backward pass\n",
    "    loss_value.backward()\n",
    "\n",
    "    #update parmaaters\n",
    "    optimizer.step()\n",
    "\n",
    "    #zero gradients\n",
    "    optimizer.zero_grad()\n",
    "\n",
    "    if(epoch+1)%10 ==0:\n",
    "        print(f'Epoch count: {epoch+1}, loss = {loss_value.item():.4f}')\n",
    "\n",
    "with torch.no_grad():\n",
    "    y_predicted = model(X_test)\n",
    "    y_predicted_cls = y_predicted.round()\n",
    "    accuracy = y_predicted_cls.eq(y_test).sum()/float(y_test.shape[0])\n"
   ]
  }
 ],
 "metadata": {
  "kernelspec": {
   "display_name": "pytorch",
   "language": "python",
   "name": "python3"
  },
  "language_info": {
   "codemirror_mode": {
    "name": "ipython",
    "version": 3
   },
   "file_extension": ".py",
   "mimetype": "text/x-python",
   "name": "python",
   "nbconvert_exporter": "python",
   "pygments_lexer": "ipython3",
   "version": "3.10.4"
  }
 },
 "nbformat": 4,
 "nbformat_minor": 2
}
