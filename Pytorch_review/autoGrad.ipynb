{
 "cells": [
  {
   "cell_type": "code",
   "execution_count": 1,
   "metadata": {},
   "outputs": [],
   "source": [
    "import torch "
   ]
  },
  {
   "cell_type": "code",
   "execution_count": 23,
   "metadata": {},
   "outputs": [
    {
     "data": {
      "text/plain": [
       "False"
      ]
     },
     "execution_count": 23,
     "metadata": {},
     "output_type": "execute_result"
    }
   ],
   "source": [
    "#while initialy creating a tensor, requires_grad functionalaity is 'False' by default\n",
    "randomTensor= torch.randn(3)\n",
    "randomTensor.requires_grad"
   ]
  },
  {
   "cell_type": "code",
   "execution_count": 24,
   "metadata": {},
   "outputs": [
    {
     "data": {
      "text/plain": [
       "True"
      ]
     },
     "execution_count": 24,
     "metadata": {},
     "output_type": "execute_result"
    }
   ],
   "source": [
    "randomTensor2 = torch.randn(5, requires_grad= True)\n",
    "randomTensor2.requires_grad\n",
    "\n",
    "#When ever we perform any operations with this 'randomTensor2' tensor, pytorch creates computational graph under the hood."
   ]
  },
  {
   "cell_type": "code",
   "execution_count": 25,
   "metadata": {},
   "outputs": [],
   "source": [
    "myOutput = randomTensor2+5\n",
    "# for above operation the compuitation graph looks like having 2 input nodes i.e. randomTensor2 and 5 and where output node in my output and operation in the middle of the both nodes in sum"
   ]
  },
  {
   "cell_type": "code",
   "execution_count": 26,
   "metadata": {},
   "outputs": [
    {
     "name": "stdout",
     "output_type": "stream",
     "text": [
      "tensor([5.0689, 4.0397, 3.6003, 3.7063, 4.7166], grad_fn=<AddBackward0>)\n"
     ]
    }
   ],
   "source": [
    "print(myOutput)"
   ]
  },
  {
   "cell_type": "code",
   "execution_count": 27,
   "metadata": {},
   "outputs": [],
   "source": [
    "newOutput = myOutput*myOutput*7"
   ]
  },
  {
   "cell_type": "code",
   "execution_count": 28,
   "metadata": {},
   "outputs": [
    {
     "name": "stdout",
     "output_type": "stream",
     "text": [
      "tensor([179.8566, 114.2333,  90.7330,  96.1558, 155.7237],\n",
      "       grad_fn=<MulBackward0>)\n"
     ]
    }
   ],
   "source": [
    "print(newOutput)"
   ]
  },
  {
   "cell_type": "code",
   "execution_count": 29,
   "metadata": {},
   "outputs": [],
   "source": [
    "newOutput = newOutput.mean()"
   ]
  },
  {
   "cell_type": "code",
   "execution_count": 30,
   "metadata": {},
   "outputs": [
    {
     "name": "stdout",
     "output_type": "stream",
     "text": [
      "tensor([14.1929, 11.3111, 10.0807, 10.3776, 13.2065])\n"
     ]
    }
   ],
   "source": [
    "#now this backward() function calculates the derrivative of function newOutput with respect to randomTensor2\n",
    "newOutput.backward()# d(newOutput)/d randomTensor2\n",
    "print(randomTensor2.grad)"
   ]
  },
  {
   "cell_type": "code",
   "execution_count": 32,
   "metadata": {},
   "outputs": [
    {
     "name": "stdout",
     "output_type": "stream",
     "text": [
      "tensor([ 0.0689, -0.9603, -1.3997, -1.2937, -0.2834])\n"
     ]
    }
   ],
   "source": [
    "#sometime we need to stop the tracking the gradient so we have following options:\n",
    "#1. var.requires._grad_(false)\n",
    "#2. var.detach()\n",
    "#3. with torch.no_grad()\n",
    "randomTensor2.requires_grad_(False)\n",
    "#or\n",
    "randomTensor2.detach()\n",
    "#or\n",
    "with torch.no_grad():\n",
    "    output2 = randomTensor2+5\n",
    "    \n",
    "print(randomTensor2)"
   ]
  },
  {
   "cell_type": "code",
   "execution_count": 37,
   "metadata": {},
   "outputs": [
    {
     "name": "stdout",
     "output_type": "stream",
     "text": [
      "Iteration 0 : tensor(12., grad_fn=<SumBackward0>)\n",
      "Iteration 0 : tensor([3., 3., 3., 3.])\n",
      "Iteration 1 : tensor(12., grad_fn=<SumBackward0>)\n",
      "Iteration 1 : tensor([6., 6., 6., 6.])\n",
      "Iteration 2 : tensor(12., grad_fn=<SumBackward0>)\n",
      "Iteration 2 : tensor([9., 9., 9., 9.])\n"
     ]
    }
   ],
   "source": [
    "#new Example\n",
    "weights = torch.ones(4, requires_grad=True)\n",
    "\n",
    "for epoch in range(3):\n",
    "    model_output = (weights*3).sum()\n",
    "    print(f'Iteration', epoch, f':',  model_output)\n",
    "\n",
    "    model_output.backward()\n",
    "    print(f'Iteration', epoch, f':', weights.grad)"
   ]
  },
  {
   "cell_type": "code",
   "execution_count": 39,
   "metadata": {},
   "outputs": [
    {
     "name": "stdout",
     "output_type": "stream",
     "text": [
      "Iteration 0 : tensor(12., grad_fn=<SumBackward0>)\n",
      "Iteration 0 : tensor([3., 3., 3., 3.])\n",
      "Iteration 1 : tensor(12., grad_fn=<SumBackward0>)\n",
      "Iteration 1 : tensor([3., 3., 3., 3.])\n",
      "Iteration 2 : tensor(12., grad_fn=<SumBackward0>)\n",
      "Iteration 2 : tensor([3., 3., 3., 3.])\n"
     ]
    }
   ],
   "source": [
    "#Example for reseting the gradient \n",
    "weights = torch.ones(4, requires_grad=True)\n",
    "\n",
    "for epoch in range(3):\n",
    "    model_output = (weights*3).sum()\n",
    "    print(f'Iteration', epoch, f':',  model_output)\n",
    "\n",
    "    model_output.backward()\n",
    "    print(f'Iteration', epoch, f':', weights.grad)\n",
    "    \n",
    "    #function to reset the gradient\n",
    "    weights.grad.zero_()"
   ]
  },
  {
   "cell_type": "code",
   "execution_count": 46,
   "metadata": {},
   "outputs": [
    {
     "name": "stdout",
     "output_type": "stream",
     "text": [
      "tensor(1., grad_fn=<PowBackward0>)\n",
      "tensor(-2.)\n"
     ]
    }
   ],
   "source": [
    "# Example of forward and backwardpass\n",
    "input1= torch.tensor(1.0)\n",
    "output1 = torch.tensor(2.0)\n",
    "\n",
    "weight1= torch.tensor(1.0, requires_grad=True)\n",
    "\n",
    "output1_hat = weight1*input1\n",
    "loss = (output1_hat-output1) ** 2\n",
    "print(loss)\n",
    "loss.backward()\n",
    "print(weight1.grad)"
   ]
  },
  {
   "cell_type": "code",
   "execution_count": null,
   "metadata": {},
   "outputs": [],
   "source": []
  }
 ],
 "metadata": {
  "kernelspec": {
   "display_name": "pytorch",
   "language": "python",
   "name": "python3"
  },
  "language_info": {
   "codemirror_mode": {
    "name": "ipython",
    "version": 3
   },
   "file_extension": ".py",
   "mimetype": "text/x-python",
   "name": "python",
   "nbconvert_exporter": "python",
   "pygments_lexer": "ipython3",
   "version": "3.10.4"
  }
 },
 "nbformat": 4,
 "nbformat_minor": 2
}
